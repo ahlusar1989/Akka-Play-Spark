{
 "cells": [
  {
   "cell_type": "code",
   "execution_count": 68,
   "metadata": {
    "collapsed": false
   },
   "outputs": [],
   "source": [
    "import seaborn as sns\n",
    "import pandas as pd\n",
    "import numpy as np\n",
    "import matplotlib.pyplot as plt"
   ]
  },
  {
   "cell_type": "code",
   "execution_count": 69,
   "metadata": {
    "collapsed": true
   },
   "outputs": [],
   "source": [
    "%matplotlib inline"
   ]
  },
  {
   "cell_type": "code",
   "execution_count": 70,
   "metadata": {
    "collapsed": false
   },
   "outputs": [
    {
     "data": {
      "text/plain": [
       "DataFrame[_1: array<string>, _2: double]"
      ]
     },
     "execution_count": 70,
     "metadata": {},
     "output_type": "execute_result"
    }
   ],
   "source": [
    "ssc = SQLContext(sc)\n",
    "tweets = ssc.read.parquet(\"/tmp/tweet-corpus\")\n",
    "tweets.cache()"
   ]
  },
  {
   "cell_type": "code",
   "execution_count": 71,
   "metadata": {
    "collapsed": false
   },
   "outputs": [
    {
     "data": {
      "text/plain": [
       "5003"
      ]
     },
     "execution_count": 71,
     "metadata": {},
     "output_type": "execute_result"
    }
   ],
   "source": [
    "tweets.count()"
   ]
  },
  {
   "cell_type": "code",
   "execution_count": 72,
   "metadata": {
    "collapsed": false
   },
   "outputs": [
    {
     "data": {
      "text/html": [
       "<div>\n",
       "<table border=\"1\" class=\"dataframe\">\n",
       "  <thead>\n",
       "    <tr style=\"text-align: right;\">\n",
       "      <th></th>\n",
       "      <th>tokens</th>\n",
       "      <th>label</th>\n",
       "    </tr>\n",
       "  </thead>\n",
       "  <tbody>\n",
       "    <tr>\n",
       "      <th>0</th>\n",
       "      <td>[, the case, be the, would be, feel, we had, w...</td>\n",
       "      <td>1</td>\n",
       "    </tr>\n",
       "    <tr>\n",
       "      <th>1</th>\n",
       "      <td>[, satu, tapii, kan, cuma, jam sama, handshak,...</td>\n",
       "      <td>0</td>\n",
       "    </tr>\n",
       "    <tr>\n",
       "      <th>2</th>\n",
       "      <td>[, want, tattoo, want tattoo, i, tattoo , i want]</td>\n",
       "      <td>0</td>\n",
       "    </tr>\n",
       "    <tr>\n",
       "      <th>3</th>\n",
       "      <td>[, maybe, yeah maybe, rawr yeah, rawr, know, k...</td>\n",
       "      <td>0</td>\n",
       "    </tr>\n",
       "    <tr>\n",
       "      <th>4</th>\n",
       "      <td>[, ay grabe, grabe,  , usernam ay, usernam, ay]</td>\n",
       "      <td>0</td>\n",
       "    </tr>\n",
       "  </tbody>\n",
       "</table>\n",
       "</div>"
      ],
      "text/plain": [
       "                                              tokens  label\n",
       "0  [, the case, be the, would be, feel, we had, w...      1\n",
       "1  [, satu, tapii, kan, cuma, jam sama, handshak,...      0\n",
       "2  [, want, tattoo, want tattoo, i, tattoo , i want]      0\n",
       "3  [, maybe, yeah maybe, rawr yeah, rawr, know, k...      0\n",
       "4    [, ay grabe, grabe,  , usernam ay, usernam, ay]      0"
      ]
     },
     "execution_count": 72,
     "metadata": {},
     "output_type": "execute_result"
    }
   ],
   "source": [
    "df = tweets.toPandas()\n",
    "df.columns = [\"tokens\", \"label\"]\n",
    "df.head()"
   ]
  },
  {
   "cell_type": "markdown",
   "metadata": {},
   "source": [
    "## Preprocessing"
   ]
  },
  {
   "cell_type": "markdown",
   "metadata": {},
   "source": [
    "### Using `HashingTF`, a simple bag of words model"
   ]
  },
  {
   "cell_type": "code",
   "execution_count": 73,
   "metadata": {
    "collapsed": false
   },
   "outputs": [],
   "source": [
    "from pyspark.mllib.feature import IDF\n",
    "from pyspark.mllib.feature import HashingTF\n",
    "from pyspark.mllib.linalg import Vectors\n",
    "from pyspark.mllib.classification import LabeledPoint"
   ]
  },
  {
   "cell_type": "code",
   "execution_count": 74,
   "metadata": {
    "collapsed": true
   },
   "outputs": [],
   "source": [
    "coeff = 3000\n",
    "hashingTf = HashingTF(coeff)"
   ]
  },
  {
   "cell_type": "code",
   "execution_count": 75,
   "metadata": {
    "collapsed": false
   },
   "outputs": [],
   "source": [
    "#vectors = sc.parallelize([hashingTf.transform(tokens) for tokens in df._1])\n",
    "#idf = IDF().fit(vectors)"
   ]
  },
  {
   "cell_type": "code",
   "execution_count": 76,
   "metadata": {
    "collapsed": true
   },
   "outputs": [],
   "source": [
    "def featurize(tokens): return hashingTf.transform(tokens)\n",
    "#def tfidf(tokens): return idf.transform(tf(tokens))"
   ]
  },
  {
   "cell_type": "code",
   "execution_count": 77,
   "metadata": {
    "collapsed": false
   },
   "outputs": [
    {
     "data": {
      "text/html": [
       "<div>\n",
       "<table border=\"1\" class=\"dataframe\">\n",
       "  <thead>\n",
       "    <tr style=\"text-align: right;\">\n",
       "      <th></th>\n",
       "      <th>tokens</th>\n",
       "      <th>label</th>\n",
       "      <th>lpoint</th>\n",
       "    </tr>\n",
       "  </thead>\n",
       "  <tbody>\n",
       "    <tr>\n",
       "      <th>0</th>\n",
       "      <td>[, the case, be the, would be, feel, we had, w...</td>\n",
       "      <td>1</td>\n",
       "      <td>(1.0,(3000,[0,79,91,189,241,344,446,656,762,96...</td>\n",
       "    </tr>\n",
       "    <tr>\n",
       "      <th>1</th>\n",
       "      <td>[, satu, tapii, kan, cuma, jam sama, handshak,...</td>\n",
       "      <td>0</td>\n",
       "      <td>(0.0,(3000,[0,13,74,203,239,250,256,292,318,51...</td>\n",
       "    </tr>\n",
       "    <tr>\n",
       "      <th>2</th>\n",
       "      <td>[, want, tattoo, want tattoo, i, tattoo , i want]</td>\n",
       "      <td>0</td>\n",
       "      <td>(0.0,(3000,[0,186,438,1424,1903,2185,2622],[1....</td>\n",
       "    </tr>\n",
       "    <tr>\n",
       "      <th>3</th>\n",
       "      <td>[, maybe, yeah maybe, rawr yeah, rawr, know, k...</td>\n",
       "      <td>0</td>\n",
       "      <td>(0.0,(3000,[0,116,437,675,1142,1216,1249,1465,...</td>\n",
       "    </tr>\n",
       "    <tr>\n",
       "      <th>4</th>\n",
       "      <td>[, ay grabe, grabe,  , usernam ay, usernam, ay]</td>\n",
       "      <td>0</td>\n",
       "      <td>(0.0,(3000,[0,960,1216,1321,1709,1833,2954],[1...</td>\n",
       "    </tr>\n",
       "    <tr>\n",
       "      <th>5</th>\n",
       "      <td>[, aqui, calor aqui, sempr, tem, calor, aqui s...</td>\n",
       "      <td>0</td>\n",
       "      <td>(0.0,(3000,[0,269,276,889,1216,1635,1774,2460,...</td>\n",
       "    </tr>\n",
       "    <tr>\n",
       "      <th>6</th>\n",
       "      <td>[, usernam usernam, want, him, i, same, i want...</td>\n",
       "      <td>0</td>\n",
       "      <td>(0.0,(3000,[0,254,438,615,695,725,782,1125,121...</td>\n",
       "    </tr>\n",
       "    <tr>\n",
       "      <th>7</th>\n",
       "      <td>[, 1990 an, an waktu, masih, ngetwitnya, ngetw...</td>\n",
       "      <td>0</td>\n",
       "      <td>(0.0,(3000,[0,11,69,138,252,291,480,584,865,95...</td>\n",
       "    </tr>\n",
       "    <tr>\n",
       "      <th>8</th>\n",
       "      <td>[, usernam cant, cant , usernam, cant]</td>\n",
       "      <td>0</td>\n",
       "      <td>(0.0,(3000,[0,1216,1767,2514,2691],[1.0,1.0,1....</td>\n",
       "    </tr>\n",
       "    <tr>\n",
       "      <th>9</th>\n",
       "      <td>[]</td>\n",
       "      <td>0</td>\n",
       "      <td>(0.0,(3000,[0],[1.0]))</td>\n",
       "    </tr>\n",
       "    <tr>\n",
       "      <th>10</th>\n",
       "      <td>[, gigih cari, cari kat, googl, pink , kat, su...</td>\n",
       "      <td>0</td>\n",
       "      <td>(0.0,(3000,[0,23,96,376,587,849,1319,1350,1373...</td>\n",
       "    </tr>\n",
       "    <tr>\n",
       "      <th>11</th>\n",
       "      <td>[999 httpst, fifa, , usernam 999, httpstco4hpv...</td>\n",
       "      <td>0</td>\n",
       "      <td>(0.0,(3000,[0,317,452,1106,1216,1321,1375,1448...</td>\n",
       "    </tr>\n",
       "    <tr>\n",
       "      <th>12</th>\n",
       "      <td>[, realiz im, httpstcoevokfo3e1, oh, god, my g...</td>\n",
       "      <td>0</td>\n",
       "      <td>(0.0,(3000,[0,12,138,271,452,858,905,916,951,1...</td>\n",
       "    </tr>\n",
       "    <tr>\n",
       "      <th>13</th>\n",
       "      <td>[want to, , so i, adult thing, dai off, have, ...</td>\n",
       "      <td>0</td>\n",
       "      <td>(0.0,(3000,[0,75,133,229,438,542,738,916,967,1...</td>\n",
       "    </tr>\n",
       "    <tr>\n",
       "      <th>14</th>\n",
       "      <td>[usernam, , usernam ,  ]</td>\n",
       "      <td>0</td>\n",
       "      <td>(0.0,(3000,[0,317,1216,1321],[1.0,1.0,1.0,1.0]))</td>\n",
       "    </tr>\n",
       "    <tr>\n",
       "      <th>15</th>\n",
       "      <td>[down, , in, sad , slfl,  slfl, yall dont, die...</td>\n",
       "      <td>0</td>\n",
       "      <td>(0.0,(3000,[0,359,509,652,785,851,906,1037,105...</td>\n",
       "    </tr>\n",
       "    <tr>\n",
       "      <th>16</th>\n",
       "      <td>[, slow, theyr, but, realli slow, but theyr,  ...</td>\n",
       "      <td>0</td>\n",
       "      <td>(0.0,(3000,[0,113,487,712,755,1321,1513,1846,1...</td>\n",
       "    </tr>\n",
       "    <tr>\n",
       "      <th>17</th>\n",
       "      <td>[, sleep, i, sleep , i cant, cant sleep, cant]</td>\n",
       "      <td>0</td>\n",
       "      <td>(0.0,(3000,[0,588,901,1424,1683,2265,2514],[1....</td>\n",
       "    </tr>\n",
       "    <tr>\n",
       "      <th>18</th>\n",
       "      <td>[,  ]</td>\n",
       "      <td>0</td>\n",
       "      <td>(0.0,(3000,[0,1321],[1.0,1.0]))</td>\n",
       "    </tr>\n",
       "    <tr>\n",
       "      <th>19</th>\n",
       "      <td>[lo lo, , siap mati, hati lo, lo, jual hati, m...</td>\n",
       "      <td>0</td>\n",
       "      <td>(0.0,(3000,[0,9,94,135,149,207,258,375,1047,12...</td>\n",
       "    </tr>\n",
       "    <tr>\n",
       "      <th>20</th>\n",
       "      <td>[, why, it so, so, it, so nice, out with, hang...</td>\n",
       "      <td>0</td>\n",
       "      <td>(0.0,(3000,[0,229,237,596,693,857,916,1165,119...</td>\n",
       "    </tr>\n",
       "    <tr>\n",
       "      <th>21</th>\n",
       "      <td>[, laban, vid, ng, laban ng, shakeys , mai vid...</td>\n",
       "      <td>0</td>\n",
       "      <td>(0.0,(3000,[0,14,289,552,593,669,957,969,1023,...</td>\n",
       "    </tr>\n",
       "    <tr>\n",
       "      <th>22</th>\n",
       "      <td>[giggl, , hurt, lol, hurt , dimpl start, giggl...</td>\n",
       "      <td>0</td>\n",
       "      <td>(0.0,(3000,[0,12,25,97,651,727,868,1007,1493,1...</td>\n",
       "    </tr>\n",
       "    <tr>\n",
       "      <th>23</th>\n",
       "      <td>[est, liquid, negro, necesita, uno negro, ya, ...</td>\n",
       "      <td>0</td>\n",
       "      <td>(0.0,(3000,[69,249,284,321,331,344,476,494,734...</td>\n",
       "    </tr>\n",
       "    <tr>\n",
       "      <th>24</th>\n",
       "      <td>[, ok la, cantik, la aku, usernam sebab, sebab...</td>\n",
       "      <td>0</td>\n",
       "      <td>(0.0,(3000,[0,140,396,403,430,549,702,781,1038...</td>\n",
       "    </tr>\n",
       "    <tr>\n",
       "      <th>25</th>\n",
       "      <td>[, coi5pr88hgvv,  httpst,  , httpstcoi5pr88hgvv]</td>\n",
       "      <td>0</td>\n",
       "      <td>(0.0,(3000,[0,1321,1558,2133,2306],[1.0,1.0,1....</td>\n",
       "    </tr>\n",
       "    <tr>\n",
       "      <th>26</th>\n",
       "      <td>[, lg nyambung, usernam twenti, usernam naik, ...</td>\n",
       "      <td>0</td>\n",
       "      <td>(0.0,(3000,[0,26,131,188,705,805,873,1216,1321...</td>\n",
       "    </tr>\n",
       "    <tr>\n",
       "      <th>27</th>\n",
       "      <td>[,  httpst, emphasi on, open, on, emphasi, coz...</td>\n",
       "      <td>0</td>\n",
       "      <td>(0.0,(3000,[0,5,625,700,1092,1866,2289,2306,23...</td>\n",
       "    </tr>\n",
       "    <tr>\n",
       "      <th>28</th>\n",
       "      <td>[, in, si,  httpst, we in, boat, boat si, the ...</td>\n",
       "      <td>0</td>\n",
       "      <td>(0.0,(3000,[0,24,203,254,357,394,501,914,1034,...</td>\n",
       "    </tr>\n",
       "    <tr>\n",
       "      <th>29</th>\n",
       "      <td>[, httpstcowgd2rzvtbj,  httpst, cowgd2rzvtbj]</td>\n",
       "      <td>0</td>\n",
       "      <td>(0.0,(3000,[0,428,2299,2306],[1.0,1.0,1.0,1.0]))</td>\n",
       "    </tr>\n",
       "    <tr>\n",
       "      <th>...</th>\n",
       "      <td>...</td>\n",
       "      <td>...</td>\n",
       "      <td>...</td>\n",
       "    </tr>\n",
       "    <tr>\n",
       "      <th>4973</th>\n",
       "      <td>[corner , , good, a dutch, usernam we, it, a, ...</td>\n",
       "      <td>1</td>\n",
       "      <td>(1.0,(3000,[0,344,595,762,881,937,1165,1216,14...</td>\n",
       "    </tr>\n",
       "    <tr>\n",
       "      <th>4974</th>\n",
       "      <td>[newsjunkieswmo, , children, rowl sai, jk rowl...</td>\n",
       "      <td>1</td>\n",
       "      <td>(1.0,(3000,[0,77,99,221,307,862,886,991,1041,1...</td>\n",
       "    </tr>\n",
       "    <tr>\n",
       "      <th>4975</th>\n",
       "      <td>[close masih, , masih, sini, join, good, yadon...</td>\n",
       "      <td>1</td>\n",
       "      <td>(1.0,(3000,[0,291,536,579,695,762,777,836,1052...</td>\n",
       "    </tr>\n",
       "    <tr>\n",
       "      <th>4976</th>\n",
       "      <td>[, for, is, rest, no kathmandu, us, nepal, of ...</td>\n",
       "      <td>1</td>\n",
       "      <td>(1.0,(3000,[0,24,214,479,662,692,939,967,1015,...</td>\n",
       "    </tr>\n",
       "    <tr>\n",
       "      <th>4977</th>\n",
       "      <td>[colleenstaver wititud, , colleenstaver, coaip...</td>\n",
       "      <td>1</td>\n",
       "      <td>(1.0,(3000,[0,109,239,245,626,862,886,1514,158...</td>\n",
       "    </tr>\n",
       "    <tr>\n",
       "      <th>4978</th>\n",
       "      <td>[biglaa 3, please, , kita biglaa, 3 , soon, ht...</td>\n",
       "      <td>1</td>\n",
       "      <td>(1.0,(3000,[0,106,200,209,221,714,755,764,834,...</td>\n",
       "    </tr>\n",
       "    <tr>\n",
       "      <th>4979</th>\n",
       "      <td>[, for, hour displai, displai pictur, on a, my...</td>\n",
       "      <td>1</td>\n",
       "      <td>(1.0,(3000,[0,12,148,344,593,686,720,730,760,8...</td>\n",
       "    </tr>\n",
       "    <tr>\n",
       "      <th>4980</th>\n",
       "      <td>[, watch, otwolmanilainlov, rt,  pushawardsjad...</td>\n",
       "      <td>1</td>\n",
       "      <td>(1.0,(3000,[0,905,925,1030,1126,1186,1248,1321...</td>\n",
       "    </tr>\n",
       "    <tr>\n",
       "      <th>4981</th>\n",
       "      <td>[, mac, ani nativ, on an, hard, submiss, be tr...</td>\n",
       "      <td>1</td>\n",
       "      <td>(1.0,(3000,[0,12,33,67,105,189,231,341,420,439...</td>\n",
       "    </tr>\n",
       "    <tr>\n",
       "      <th>4982</th>\n",
       "      <td>[httpstcowygktqb0ap, tara, , kayo magsit, cavi...</td>\n",
       "      <td>1</td>\n",
       "      <td>(1.0,(3000,[0,329,341,440,452,534,747,807,922,...</td>\n",
       "    </tr>\n",
       "    <tr>\n",
       "      <th>4983</th>\n",
       "      <td>[wow, , thank you,  awesom, usernam wow, good,...</td>\n",
       "      <td>1</td>\n",
       "      <td>(1.0,(3000,[0,94,551,578,613,631,665,762,780,1...</td>\n",
       "    </tr>\n",
       "    <tr>\n",
       "      <th>4984</th>\n",
       "      <td>[for the, , for, follow usernam, insight, http...</td>\n",
       "      <td>1</td>\n",
       "      <td>(1.0,(3000,[0,44,125,145,180,344,542,613,731,8...</td>\n",
       "    </tr>\n",
       "    <tr>\n",
       "      <th>4985</th>\n",
       "      <td>[, support, children, palestinian, our un2opt,...</td>\n",
       "      <td>1</td>\n",
       "      <td>(1.0,(3000,[0,214,219,383,533,577,651,705,862,...</td>\n",
       "    </tr>\n",
       "    <tr>\n",
       "      <th>4986</th>\n",
       "      <td>[, he so, usernam he, lucki , xx, good, so, lu...</td>\n",
       "      <td>1</td>\n",
       "      <td>(1.0,(3000,[0,159,514,678,762,800,891,916,1216...</td>\n",
       "    </tr>\n",
       "    <tr>\n",
       "      <th>4987</th>\n",
       "      <td>[, usernam usernam, hello , job, youth, youth ...</td>\n",
       "      <td>1</td>\n",
       "      <td>(1.0,(3000,[0,190,496,829,872,945,1089,1175,12...</td>\n",
       "    </tr>\n",
       "    <tr>\n",
       "      <th>4988</th>\n",
       "      <td>[, so beauti, interview, tv interview, so,  ja...</td>\n",
       "      <td>1</td>\n",
       "      <td>(1.0,(3000,[0,28,194,287,759,799,916,965,1207,...</td>\n",
       "    </tr>\n",
       "    <tr>\n",
       "      <th>4989</th>\n",
       "      <td>[, awkward, glitch, hilari, do you, good, do, ...</td>\n",
       "      <td>1</td>\n",
       "      <td>(1.0,(3000,[0,42,455,525,681,732,762,952,959,1...</td>\n",
       "    </tr>\n",
       "    <tr>\n",
       "      <th>4990</th>\n",
       "      <td>[, jourdanjai, usernam jourdanjai, usernam, jo...</td>\n",
       "      <td>1</td>\n",
       "      <td>(1.0,(3000,[0,285,894,920,1216],[1.0,1.0,1.0,1...</td>\n",
       "    </tr>\n",
       "    <tr>\n",
       "      <th>4991</th>\n",
       "      <td>[e, , e publish, will tweet, is, thanks, tweet...</td>\n",
       "      <td>1</td>\n",
       "      <td>(1.0,(3000,[0,116,150,289,388,528,532,782,826,...</td>\n",
       "    </tr>\n",
       "    <tr>\n",
       "      <th>4992</th>\n",
       "      <td>[, wala po, usernam wala, ata, at ica, po ata,...</td>\n",
       "      <td>1</td>\n",
       "      <td>(1.0,(3000,[0,156,319,341,736,957,1216,1237,14...</td>\n",
       "    </tr>\n",
       "    <tr>\n",
       "      <th>4993</th>\n",
       "      <td>[, kakak, birthdai today,  , kakak birthdai, t...</td>\n",
       "      <td>1</td>\n",
       "      <td>(1.0,(3000,[0,102,950,1208,1321,2011,2711,2890...</td>\n",
       "    </tr>\n",
       "    <tr>\n",
       "      <th>4994</th>\n",
       "      <td>[please, , your, make up, mind please, up, ple...</td>\n",
       "      <td>1</td>\n",
       "      <td>(1.0,(3000,[0,213,374,581,613,684,906,1566,181...</td>\n",
       "    </tr>\n",
       "    <tr>\n",
       "      <th>4995</th>\n",
       "      <td>[, name, forgot it, thank you, your, it thank,...</td>\n",
       "      <td>1</td>\n",
       "      <td>(1.0,(3000,[0,10,176,200,285,306,452,581,596,6...</td>\n",
       "    </tr>\n",
       "    <tr>\n",
       "      <th>4996</th>\n",
       "      <td>[, next , what come, what, you know, httpstcow...</td>\n",
       "      <td>1</td>\n",
       "      <td>(1.0,(3000,[0,576,652,1167,1321,1749,1770,1818...</td>\n",
       "    </tr>\n",
       "    <tr>\n",
       "      <th>4997</th>\n",
       "      <td>[ where, , great time, had, usernam sound, a, ...</td>\n",
       "      <td>1</td>\n",
       "      <td>(1.0,(3000,[0,91,344,663,785,903,976,1090,1153...</td>\n",
       "    </tr>\n",
       "    <tr>\n",
       "      <th>4998</th>\n",
       "      <td>[, ar conceiv, conceiv, realli hot, children, ...</td>\n",
       "      <td>1</td>\n",
       "      <td>(1.0,(3000,[0,101,133,271,487,518,562,682,838,...</td>\n",
       "    </tr>\n",
       "    <tr>\n",
       "      <th>4999</th>\n",
       "      <td>[, usernam usernam, usernam me, it, me, me lik...</td>\n",
       "      <td>1</td>\n",
       "      <td>(1.0,(3000,[0,876,1165,1216,1406,1779,1829,203...</td>\n",
       "    </tr>\n",
       "    <tr>\n",
       "      <th>5000</th>\n",
       "      <td>[, for, in, follow us, pleas keep, touch, us u...</td>\n",
       "      <td>1</td>\n",
       "      <td>(1.0,(3000,[0,176,180,214,273,441,519,546,613,...</td>\n",
       "    </tr>\n",
       "    <tr>\n",
       "      <th>5001</th>\n",
       "      <td>[, read, great wednesday, insight, have, your,...</td>\n",
       "      <td>1</td>\n",
       "      <td>(1.0,(3000,[0,78,100,145,344,542,581,735,784,8...</td>\n",
       "    </tr>\n",
       "    <tr>\n",
       "      <th>5002</th>\n",
       "      <td>[, usernam parceli, brilliant mate, parceli us...</td>\n",
       "      <td>1</td>\n",
       "      <td>(1.0,(3000,[0,168,600,888,1216,1255,1554,2764,...</td>\n",
       "    </tr>\n",
       "  </tbody>\n",
       "</table>\n",
       "<p>5003 rows × 3 columns</p>\n",
       "</div>"
      ],
      "text/plain": [
       "                                                 tokens  label  \\\n",
       "0     [, the case, be the, would be, feel, we had, w...      1   \n",
       "1     [, satu, tapii, kan, cuma, jam sama, handshak,...      0   \n",
       "2     [, want, tattoo, want tattoo, i, tattoo , i want]      0   \n",
       "3     [, maybe, yeah maybe, rawr yeah, rawr, know, k...      0   \n",
       "4       [, ay grabe, grabe,  , usernam ay, usernam, ay]      0   \n",
       "5     [, aqui, calor aqui, sempr, tem, calor, aqui s...      0   \n",
       "6     [, usernam usernam, want, him, i, same, i want...      0   \n",
       "7     [, 1990 an, an waktu, masih, ngetwitnya, ngetw...      0   \n",
       "8                [, usernam cant, cant , usernam, cant]      0   \n",
       "9                                                    []      0   \n",
       "10    [, gigih cari, cari kat, googl, pink , kat, su...      0   \n",
       "11    [999 httpst, fifa, , usernam 999, httpstco4hpv...      0   \n",
       "12    [, realiz im, httpstcoevokfo3e1, oh, god, my g...      0   \n",
       "13    [want to, , so i, adult thing, dai off, have, ...      0   \n",
       "14                             [usernam, , usernam ,  ]      0   \n",
       "15    [down, , in, sad , slfl,  slfl, yall dont, die...      0   \n",
       "16    [, slow, theyr, but, realli slow, but theyr,  ...      0   \n",
       "17       [, sleep, i, sleep , i cant, cant sleep, cant]      0   \n",
       "18                                                [,  ]      0   \n",
       "19    [lo lo, , siap mati, hati lo, lo, jual hati, m...      0   \n",
       "20    [, why, it so, so, it, so nice, out with, hang...      0   \n",
       "21    [, laban, vid, ng, laban ng, shakeys , mai vid...      0   \n",
       "22    [giggl, , hurt, lol, hurt , dimpl start, giggl...      0   \n",
       "23    [est, liquid, negro, necesita, uno negro, ya, ...      0   \n",
       "24    [, ok la, cantik, la aku, usernam sebab, sebab...      0   \n",
       "25     [, coi5pr88hgvv,  httpst,  , httpstcoi5pr88hgvv]      0   \n",
       "26    [, lg nyambung, usernam twenti, usernam naik, ...      0   \n",
       "27    [,  httpst, emphasi on, open, on, emphasi, coz...      0   \n",
       "28    [, in, si,  httpst, we in, boat, boat si, the ...      0   \n",
       "29        [, httpstcowgd2rzvtbj,  httpst, cowgd2rzvtbj]      0   \n",
       "...                                                 ...    ...   \n",
       "4973  [corner , , good, a dutch, usernam we, it, a, ...      1   \n",
       "4974  [newsjunkieswmo, , children, rowl sai, jk rowl...      1   \n",
       "4975  [close masih, , masih, sini, join, good, yadon...      1   \n",
       "4976  [, for, is, rest, no kathmandu, us, nepal, of ...      1   \n",
       "4977  [colleenstaver wititud, , colleenstaver, coaip...      1   \n",
       "4978  [biglaa 3, please, , kita biglaa, 3 , soon, ht...      1   \n",
       "4979  [, for, hour displai, displai pictur, on a, my...      1   \n",
       "4980  [, watch, otwolmanilainlov, rt,  pushawardsjad...      1   \n",
       "4981  [, mac, ani nativ, on an, hard, submiss, be tr...      1   \n",
       "4982  [httpstcowygktqb0ap, tara, , kayo magsit, cavi...      1   \n",
       "4983  [wow, , thank you,  awesom, usernam wow, good,...      1   \n",
       "4984  [for the, , for, follow usernam, insight, http...      1   \n",
       "4985  [, support, children, palestinian, our un2opt,...      1   \n",
       "4986  [, he so, usernam he, lucki , xx, good, so, lu...      1   \n",
       "4987  [, usernam usernam, hello , job, youth, youth ...      1   \n",
       "4988  [, so beauti, interview, tv interview, so,  ja...      1   \n",
       "4989  [, awkward, glitch, hilari, do you, good, do, ...      1   \n",
       "4990  [, jourdanjai, usernam jourdanjai, usernam, jo...      1   \n",
       "4991  [e, , e publish, will tweet, is, thanks, tweet...      1   \n",
       "4992  [, wala po, usernam wala, ata, at ica, po ata,...      1   \n",
       "4993  [, kakak, birthdai today,  , kakak birthdai, t...      1   \n",
       "4994  [please, , your, make up, mind please, up, ple...      1   \n",
       "4995  [, name, forgot it, thank you, your, it thank,...      1   \n",
       "4996  [, next , what come, what, you know, httpstcow...      1   \n",
       "4997  [ where, , great time, had, usernam sound, a, ...      1   \n",
       "4998  [, ar conceiv, conceiv, realli hot, children, ...      1   \n",
       "4999  [, usernam usernam, usernam me, it, me, me lik...      1   \n",
       "5000  [, for, in, follow us, pleas keep, touch, us u...      1   \n",
       "5001  [, read, great wednesday, insight, have, your,...      1   \n",
       "5002  [, usernam parceli, brilliant mate, parceli us...      1   \n",
       "\n",
       "                                                 lpoint  \n",
       "0     (1.0,(3000,[0,79,91,189,241,344,446,656,762,96...  \n",
       "1     (0.0,(3000,[0,13,74,203,239,250,256,292,318,51...  \n",
       "2     (0.0,(3000,[0,186,438,1424,1903,2185,2622],[1....  \n",
       "3     (0.0,(3000,[0,116,437,675,1142,1216,1249,1465,...  \n",
       "4     (0.0,(3000,[0,960,1216,1321,1709,1833,2954],[1...  \n",
       "5     (0.0,(3000,[0,269,276,889,1216,1635,1774,2460,...  \n",
       "6     (0.0,(3000,[0,254,438,615,695,725,782,1125,121...  \n",
       "7     (0.0,(3000,[0,11,69,138,252,291,480,584,865,95...  \n",
       "8     (0.0,(3000,[0,1216,1767,2514,2691],[1.0,1.0,1....  \n",
       "9                                (0.0,(3000,[0],[1.0]))  \n",
       "10    (0.0,(3000,[0,23,96,376,587,849,1319,1350,1373...  \n",
       "11    (0.0,(3000,[0,317,452,1106,1216,1321,1375,1448...  \n",
       "12    (0.0,(3000,[0,12,138,271,452,858,905,916,951,1...  \n",
       "13    (0.0,(3000,[0,75,133,229,438,542,738,916,967,1...  \n",
       "14     (0.0,(3000,[0,317,1216,1321],[1.0,1.0,1.0,1.0]))  \n",
       "15    (0.0,(3000,[0,359,509,652,785,851,906,1037,105...  \n",
       "16    (0.0,(3000,[0,113,487,712,755,1321,1513,1846,1...  \n",
       "17    (0.0,(3000,[0,588,901,1424,1683,2265,2514],[1....  \n",
       "18                      (0.0,(3000,[0,1321],[1.0,1.0]))  \n",
       "19    (0.0,(3000,[0,9,94,135,149,207,258,375,1047,12...  \n",
       "20    (0.0,(3000,[0,229,237,596,693,857,916,1165,119...  \n",
       "21    (0.0,(3000,[0,14,289,552,593,669,957,969,1023,...  \n",
       "22    (0.0,(3000,[0,12,25,97,651,727,868,1007,1493,1...  \n",
       "23    (0.0,(3000,[69,249,284,321,331,344,476,494,734...  \n",
       "24    (0.0,(3000,[0,140,396,403,430,549,702,781,1038...  \n",
       "25    (0.0,(3000,[0,1321,1558,2133,2306],[1.0,1.0,1....  \n",
       "26    (0.0,(3000,[0,26,131,188,705,805,873,1216,1321...  \n",
       "27    (0.0,(3000,[0,5,625,700,1092,1866,2289,2306,23...  \n",
       "28    (0.0,(3000,[0,24,203,254,357,394,501,914,1034,...  \n",
       "29     (0.0,(3000,[0,428,2299,2306],[1.0,1.0,1.0,1.0]))  \n",
       "...                                                 ...  \n",
       "4973  (1.0,(3000,[0,344,595,762,881,937,1165,1216,14...  \n",
       "4974  (1.0,(3000,[0,77,99,221,307,862,886,991,1041,1...  \n",
       "4975  (1.0,(3000,[0,291,536,579,695,762,777,836,1052...  \n",
       "4976  (1.0,(3000,[0,24,214,479,662,692,939,967,1015,...  \n",
       "4977  (1.0,(3000,[0,109,239,245,626,862,886,1514,158...  \n",
       "4978  (1.0,(3000,[0,106,200,209,221,714,755,764,834,...  \n",
       "4979  (1.0,(3000,[0,12,148,344,593,686,720,730,760,8...  \n",
       "4980  (1.0,(3000,[0,905,925,1030,1126,1186,1248,1321...  \n",
       "4981  (1.0,(3000,[0,12,33,67,105,189,231,341,420,439...  \n",
       "4982  (1.0,(3000,[0,329,341,440,452,534,747,807,922,...  \n",
       "4983  (1.0,(3000,[0,94,551,578,613,631,665,762,780,1...  \n",
       "4984  (1.0,(3000,[0,44,125,145,180,344,542,613,731,8...  \n",
       "4985  (1.0,(3000,[0,214,219,383,533,577,651,705,862,...  \n",
       "4986  (1.0,(3000,[0,159,514,678,762,800,891,916,1216...  \n",
       "4987  (1.0,(3000,[0,190,496,829,872,945,1089,1175,12...  \n",
       "4988  (1.0,(3000,[0,28,194,287,759,799,916,965,1207,...  \n",
       "4989  (1.0,(3000,[0,42,455,525,681,732,762,952,959,1...  \n",
       "4990  (1.0,(3000,[0,285,894,920,1216],[1.0,1.0,1.0,1...  \n",
       "4991  (1.0,(3000,[0,116,150,289,388,528,532,782,826,...  \n",
       "4992  (1.0,(3000,[0,156,319,341,736,957,1216,1237,14...  \n",
       "4993  (1.0,(3000,[0,102,950,1208,1321,2011,2711,2890...  \n",
       "4994  (1.0,(3000,[0,213,374,581,613,684,906,1566,181...  \n",
       "4995  (1.0,(3000,[0,10,176,200,285,306,452,581,596,6...  \n",
       "4996  (1.0,(3000,[0,576,652,1167,1321,1749,1770,1818...  \n",
       "4997  (1.0,(3000,[0,91,344,663,785,903,976,1090,1153...  \n",
       "4998  (1.0,(3000,[0,101,133,271,487,518,562,682,838,...  \n",
       "4999  (1.0,(3000,[0,876,1165,1216,1406,1779,1829,203...  \n",
       "5000  (1.0,(3000,[0,176,180,214,273,441,519,546,613,...  \n",
       "5001  (1.0,(3000,[0,78,100,145,344,542,581,735,784,8...  \n",
       "5002  (1.0,(3000,[0,168,600,888,1216,1255,1554,2764,...  \n",
       "\n",
       "[5003 rows x 3 columns]"
      ]
     },
     "execution_count": 77,
     "metadata": {},
     "output_type": "execute_result"
    }
   ],
   "source": [
    "df['lpoint'] = df.apply(lambda row: LabeledPoint(row['label'], featurize(row['tokens'])), axis=1)\n",
    "df"
   ]
  },
  {
   "cell_type": "markdown",
   "metadata": {},
   "source": [
    "Create train/test split"
   ]
  },
  {
   "cell_type": "code",
   "execution_count": 78,
   "metadata": {
    "collapsed": true
   },
   "outputs": [],
   "source": [
    "# create boolean mask\n",
    "msk = np.random.rand(len(df)) < 0.80\n",
    "train = df[msk]\n",
    "test = df[~msk]"
   ]
  },
  {
   "cell_type": "markdown",
   "metadata": {},
   "source": [
    "### Distribution of labels of training set"
   ]
  },
  {
   "cell_type": "code",
   "execution_count": 79,
   "metadata": {
    "collapsed": false
   },
   "outputs": [
    {
     "data": {
      "image/png": "[encoded data removed]",
      "text/plain": [
       "<matplotlib.figure.Figure at 0x1040bde90>"
      ]
     },
     "metadata": {},
     "output_type": "display_data"
    }
   ],
   "source": [
    "_ = sns.countplot(x=\"label\", data=train)"
   ]
  },
  {
   "cell_type": "markdown",
   "metadata": {},
   "source": [
    "### Distribution of labels of test set"
   ]
  },
  {
   "cell_type": "code",
   "execution_count": 80,
   "metadata": {
    "collapsed": false
   },
   "outputs": [
    {
     "data": {
      "image/png": "[encoded data removed]",
      "text/plain": [
       "<matplotlib.figure.Figure at 0x10e216fd0>"
      ]
     },
     "metadata": {},
     "output_type": "display_data"
    }
   ],
   "source": [
    "_ = sns.countplot(x=\"label\", data=test)"
   ]
  },
  {
   "cell_type": "markdown",
   "metadata": {},
   "source": [
    "### Run PCA"
   ]
  },
  {
   "cell_type": "code",
   "execution_count": 81,
   "metadata": {
    "collapsed": true
   },
   "outputs": [],
   "source": [
    "from pyspark.mllib.feature import PCA"
   ]
  },
  {
   "cell_type": "code",
   "execution_count": 82,
   "metadata": {
    "collapsed": false
   },
   "outputs": [
    {
     "data": {
      "text/html": [
       "<div>\n",
       "<table border=\"1\" class=\"dataframe\">\n",
       "  <thead>\n",
       "    <tr style=\"text-align: right;\">\n",
       "      <th></th>\n",
       "      <th>tokens</th>\n",
       "      <th>label</th>\n",
       "      <th>lpoint</th>\n",
       "    </tr>\n",
       "  </thead>\n",
       "  <tbody>\n",
       "    <tr>\n",
       "      <th>0</th>\n",
       "      <td>[, the case, be the, would be, feel, we had, w...</td>\n",
       "      <td>1</td>\n",
       "      <td>(1.0,(3000,[0,79,91,189,241,344,446,656,762,96...</td>\n",
       "    </tr>\n",
       "    <tr>\n",
       "      <th>1</th>\n",
       "      <td>[, satu, tapii, kan, cuma, jam sama, handshak,...</td>\n",
       "      <td>0</td>\n",
       "      <td>(0.0,(3000,[0,13,74,203,239,250,256,292,318,51...</td>\n",
       "    </tr>\n",
       "    <tr>\n",
       "      <th>2</th>\n",
       "      <td>[, want, tattoo, want tattoo, i, tattoo , i want]</td>\n",
       "      <td>0</td>\n",
       "      <td>(0.0,(3000,[0,186,438,1424,1903,2185,2622],[1....</td>\n",
       "    </tr>\n",
       "    <tr>\n",
       "      <th>3</th>\n",
       "      <td>[, maybe, yeah maybe, rawr yeah, rawr, know, k...</td>\n",
       "      <td>0</td>\n",
       "      <td>(0.0,(3000,[0,116,437,675,1142,1216,1249,1465,...</td>\n",
       "    </tr>\n",
       "    <tr>\n",
       "      <th>4</th>\n",
       "      <td>[, ay grabe, grabe,  , usernam ay, usernam, ay]</td>\n",
       "      <td>0</td>\n",
       "      <td>(0.0,(3000,[0,960,1216,1321,1709,1833,2954],[1...</td>\n",
       "    </tr>\n",
       "    <tr>\n",
       "      <th>5</th>\n",
       "      <td>[, aqui, calor aqui, sempr, tem, calor, aqui s...</td>\n",
       "      <td>0</td>\n",
       "      <td>(0.0,(3000,[0,269,276,889,1216,1635,1774,2460,...</td>\n",
       "    </tr>\n",
       "    <tr>\n",
       "      <th>6</th>\n",
       "      <td>[, usernam usernam, want, him, i, same, i want...</td>\n",
       "      <td>0</td>\n",
       "      <td>(0.0,(3000,[0,254,438,615,695,725,782,1125,121...</td>\n",
       "    </tr>\n",
       "    <tr>\n",
       "      <th>7</th>\n",
       "      <td>[, 1990 an, an waktu, masih, ngetwitnya, ngetw...</td>\n",
       "      <td>0</td>\n",
       "      <td>(0.0,(3000,[0,11,69,138,252,291,480,584,865,95...</td>\n",
       "    </tr>\n",
       "    <tr>\n",
       "      <th>8</th>\n",
       "      <td>[, usernam cant, cant , usernam, cant]</td>\n",
       "      <td>0</td>\n",
       "      <td>(0.0,(3000,[0,1216,1767,2514,2691],[1.0,1.0,1....</td>\n",
       "    </tr>\n",
       "    <tr>\n",
       "      <th>9</th>\n",
       "      <td>[]</td>\n",
       "      <td>0</td>\n",
       "      <td>(0.0,(3000,[0],[1.0]))</td>\n",
       "    </tr>\n",
       "    <tr>\n",
       "      <th>10</th>\n",
       "      <td>[, gigih cari, cari kat, googl, pink , kat, su...</td>\n",
       "      <td>0</td>\n",
       "      <td>(0.0,(3000,[0,23,96,376,587,849,1319,1350,1373...</td>\n",
       "    </tr>\n",
       "    <tr>\n",
       "      <th>11</th>\n",
       "      <td>[999 httpst, fifa, , usernam 999, httpstco4hpv...</td>\n",
       "      <td>0</td>\n",
       "      <td>(0.0,(3000,[0,317,452,1106,1216,1321,1375,1448...</td>\n",
       "    </tr>\n",
       "    <tr>\n",
       "      <th>12</th>\n",
       "      <td>[, realiz im, httpstcoevokfo3e1, oh, god, my g...</td>\n",
       "      <td>0</td>\n",
       "      <td>(0.0,(3000,[0,12,138,271,452,858,905,916,951,1...</td>\n",
       "    </tr>\n",
       "    <tr>\n",
       "      <th>13</th>\n",
       "      <td>[want to, , so i, adult thing, dai off, have, ...</td>\n",
       "      <td>0</td>\n",
       "      <td>(0.0,(3000,[0,75,133,229,438,542,738,916,967,1...</td>\n",
       "    </tr>\n",
       "    <tr>\n",
       "      <th>14</th>\n",
       "      <td>[usernam, , usernam ,  ]</td>\n",
       "      <td>0</td>\n",
       "      <td>(0.0,(3000,[0,317,1216,1321],[1.0,1.0,1.0,1.0]))</td>\n",
       "    </tr>\n",
       "    <tr>\n",
       "      <th>15</th>\n",
       "      <td>[down, , in, sad , slfl,  slfl, yall dont, die...</td>\n",
       "      <td>0</td>\n",
       "      <td>(0.0,(3000,[0,359,509,652,785,851,906,1037,105...</td>\n",
       "    </tr>\n",
       "    <tr>\n",
       "      <th>16</th>\n",
       "      <td>[, slow, theyr, but, realli slow, but theyr,  ...</td>\n",
       "      <td>0</td>\n",
       "      <td>(0.0,(3000,[0,113,487,712,755,1321,1513,1846,1...</td>\n",
       "    </tr>\n",
       "    <tr>\n",
       "      <th>17</th>\n",
       "      <td>[, sleep, i, sleep , i cant, cant sleep, cant]</td>\n",
       "      <td>0</td>\n",
       "      <td>(0.0,(3000,[0,588,901,1424,1683,2265,2514],[1....</td>\n",
       "    </tr>\n",
       "    <tr>\n",
       "      <th>18</th>\n",
       "      <td>[,  ]</td>\n",
       "      <td>0</td>\n",
       "      <td>(0.0,(3000,[0,1321],[1.0,1.0]))</td>\n",
       "    </tr>\n",
       "    <tr>\n",
       "      <th>19</th>\n",
       "      <td>[lo lo, , siap mati, hati lo, lo, jual hati, m...</td>\n",
       "      <td>0</td>\n",
       "      <td>(0.0,(3000,[0,9,94,135,149,207,258,375,1047,12...</td>\n",
       "    </tr>\n",
       "    <tr>\n",
       "      <th>20</th>\n",
       "      <td>[, why, it so, so, it, so nice, out with, hang...</td>\n",
       "      <td>0</td>\n",
       "      <td>(0.0,(3000,[0,229,237,596,693,857,916,1165,119...</td>\n",
       "    </tr>\n",
       "    <tr>\n",
       "      <th>21</th>\n",
       "      <td>[, laban, vid, ng, laban ng, shakeys , mai vid...</td>\n",
       "      <td>0</td>\n",
       "      <td>(0.0,(3000,[0,14,289,552,593,669,957,969,1023,...</td>\n",
       "    </tr>\n",
       "    <tr>\n",
       "      <th>22</th>\n",
       "      <td>[giggl, , hurt, lol, hurt , dimpl start, giggl...</td>\n",
       "      <td>0</td>\n",
       "      <td>(0.0,(3000,[0,12,25,97,651,727,868,1007,1493,1...</td>\n",
       "    </tr>\n",
       "    <tr>\n",
       "      <th>23</th>\n",
       "      <td>[est, liquid, negro, necesita, uno negro, ya, ...</td>\n",
       "      <td>0</td>\n",
       "      <td>(0.0,(3000,[69,249,284,321,331,344,476,494,734...</td>\n",
       "    </tr>\n",
       "    <tr>\n",
       "      <th>24</th>\n",
       "      <td>[, ok la, cantik, la aku, usernam sebab, sebab...</td>\n",
       "      <td>0</td>\n",
       "      <td>(0.0,(3000,[0,140,396,403,430,549,702,781,1038...</td>\n",
       "    </tr>\n",
       "    <tr>\n",
       "      <th>25</th>\n",
       "      <td>[, coi5pr88hgvv,  httpst,  , httpstcoi5pr88hgvv]</td>\n",
       "      <td>0</td>\n",
       "      <td>(0.0,(3000,[0,1321,1558,2133,2306],[1.0,1.0,1....</td>\n",
       "    </tr>\n",
       "    <tr>\n",
       "      <th>26</th>\n",
       "      <td>[, lg nyambung, usernam twenti, usernam naik, ...</td>\n",
       "      <td>0</td>\n",
       "      <td>(0.0,(3000,[0,26,131,188,705,805,873,1216,1321...</td>\n",
       "    </tr>\n",
       "    <tr>\n",
       "      <th>27</th>\n",
       "      <td>[,  httpst, emphasi on, open, on, emphasi, coz...</td>\n",
       "      <td>0</td>\n",
       "      <td>(0.0,(3000,[0,5,625,700,1092,1866,2289,2306,23...</td>\n",
       "    </tr>\n",
       "    <tr>\n",
       "      <th>28</th>\n",
       "      <td>[, in, si,  httpst, we in, boat, boat si, the ...</td>\n",
       "      <td>0</td>\n",
       "      <td>(0.0,(3000,[0,24,203,254,357,394,501,914,1034,...</td>\n",
       "    </tr>\n",
       "    <tr>\n",
       "      <th>29</th>\n",
       "      <td>[, httpstcowgd2rzvtbj,  httpst, cowgd2rzvtbj]</td>\n",
       "      <td>0</td>\n",
       "      <td>(0.0,(3000,[0,428,2299,2306],[1.0,1.0,1.0,1.0]))</td>\n",
       "    </tr>\n",
       "    <tr>\n",
       "      <th>...</th>\n",
       "      <td>...</td>\n",
       "      <td>...</td>\n",
       "      <td>...</td>\n",
       "    </tr>\n",
       "    <tr>\n",
       "      <th>4973</th>\n",
       "      <td>[corner , , good, a dutch, usernam we, it, a, ...</td>\n",
       "      <td>1</td>\n",
       "      <td>(1.0,(3000,[0,344,595,762,881,937,1165,1216,14...</td>\n",
       "    </tr>\n",
       "    <tr>\n",
       "      <th>4974</th>\n",
       "      <td>[newsjunkieswmo, , children, rowl sai, jk rowl...</td>\n",
       "      <td>1</td>\n",
       "      <td>(1.0,(3000,[0,77,99,221,307,862,886,991,1041,1...</td>\n",
       "    </tr>\n",
       "    <tr>\n",
       "      <th>4975</th>\n",
       "      <td>[close masih, , masih, sini, join, good, yadon...</td>\n",
       "      <td>1</td>\n",
       "      <td>(1.0,(3000,[0,291,536,579,695,762,777,836,1052...</td>\n",
       "    </tr>\n",
       "    <tr>\n",
       "      <th>4976</th>\n",
       "      <td>[, for, is, rest, no kathmandu, us, nepal, of ...</td>\n",
       "      <td>1</td>\n",
       "      <td>(1.0,(3000,[0,24,214,479,662,692,939,967,1015,...</td>\n",
       "    </tr>\n",
       "    <tr>\n",
       "      <th>4977</th>\n",
       "      <td>[colleenstaver wititud, , colleenstaver, coaip...</td>\n",
       "      <td>1</td>\n",
       "      <td>(1.0,(3000,[0,109,239,245,626,862,886,1514,158...</td>\n",
       "    </tr>\n",
       "    <tr>\n",
       "      <th>4978</th>\n",
       "      <td>[biglaa 3, please, , kita biglaa, 3 , soon, ht...</td>\n",
       "      <td>1</td>\n",
       "      <td>(1.0,(3000,[0,106,200,209,221,714,755,764,834,...</td>\n",
       "    </tr>\n",
       "    <tr>\n",
       "      <th>4979</th>\n",
       "      <td>[, for, hour displai, displai pictur, on a, my...</td>\n",
       "      <td>1</td>\n",
       "      <td>(1.0,(3000,[0,12,148,344,593,686,720,730,760,8...</td>\n",
       "    </tr>\n",
       "    <tr>\n",
       "      <th>4980</th>\n",
       "      <td>[, watch, otwolmanilainlov, rt,  pushawardsjad...</td>\n",
       "      <td>1</td>\n",
       "      <td>(1.0,(3000,[0,905,925,1030,1126,1186,1248,1321...</td>\n",
       "    </tr>\n",
       "    <tr>\n",
       "      <th>4981</th>\n",
       "      <td>[, mac, ani nativ, on an, hard, submiss, be tr...</td>\n",
       "      <td>1</td>\n",
       "      <td>(1.0,(3000,[0,12,33,67,105,189,231,341,420,439...</td>\n",
       "    </tr>\n",
       "    <tr>\n",
       "      <th>4982</th>\n",
       "      <td>[httpstcowygktqb0ap, tara, , kayo magsit, cavi...</td>\n",
       "      <td>1</td>\n",
       "      <td>(1.0,(3000,[0,329,341,440,452,534,747,807,922,...</td>\n",
       "    </tr>\n",
       "    <tr>\n",
       "      <th>4983</th>\n",
       "      <td>[wow, , thank you,  awesom, usernam wow, good,...</td>\n",
       "      <td>1</td>\n",
       "      <td>(1.0,(3000,[0,94,551,578,613,631,665,762,780,1...</td>\n",
       "    </tr>\n",
       "    <tr>\n",
       "      <th>4984</th>\n",
       "      <td>[for the, , for, follow usernam, insight, http...</td>\n",
       "      <td>1</td>\n",
       "      <td>(1.0,(3000,[0,44,125,145,180,344,542,613,731,8...</td>\n",
       "    </tr>\n",
       "    <tr>\n",
       "      <th>4985</th>\n",
       "      <td>[, support, children, palestinian, our un2opt,...</td>\n",
       "      <td>1</td>\n",
       "      <td>(1.0,(3000,[0,214,219,383,533,577,651,705,862,...</td>\n",
       "    </tr>\n",
       "    <tr>\n",
       "      <th>4986</th>\n",
       "      <td>[, he so, usernam he, lucki , xx, good, so, lu...</td>\n",
       "      <td>1</td>\n",
       "      <td>(1.0,(3000,[0,159,514,678,762,800,891,916,1216...</td>\n",
       "    </tr>\n",
       "    <tr>\n",
       "      <th>4987</th>\n",
       "      <td>[, usernam usernam, hello , job, youth, youth ...</td>\n",
       "      <td>1</td>\n",
       "      <td>(1.0,(3000,[0,190,496,829,872,945,1089,1175,12...</td>\n",
       "    </tr>\n",
       "    <tr>\n",
       "      <th>4988</th>\n",
       "      <td>[, so beauti, interview, tv interview, so,  ja...</td>\n",
       "      <td>1</td>\n",
       "      <td>(1.0,(3000,[0,28,194,287,759,799,916,965,1207,...</td>\n",
       "    </tr>\n",
       "    <tr>\n",
       "      <th>4989</th>\n",
       "      <td>[, awkward, glitch, hilari, do you, good, do, ...</td>\n",
       "      <td>1</td>\n",
       "      <td>(1.0,(3000,[0,42,455,525,681,732,762,952,959,1...</td>\n",
       "    </tr>\n",
       "    <tr>\n",
       "      <th>4990</th>\n",
       "      <td>[, jourdanjai, usernam jourdanjai, usernam, jo...</td>\n",
       "      <td>1</td>\n",
       "      <td>(1.0,(3000,[0,285,894,920,1216],[1.0,1.0,1.0,1...</td>\n",
       "    </tr>\n",
       "    <tr>\n",
       "      <th>4991</th>\n",
       "      <td>[e, , e publish, will tweet, is, thanks, tweet...</td>\n",
       "      <td>1</td>\n",
       "      <td>(1.0,(3000,[0,116,150,289,388,528,532,782,826,...</td>\n",
       "    </tr>\n",
       "    <tr>\n",
       "      <th>4992</th>\n",
       "      <td>[, wala po, usernam wala, ata, at ica, po ata,...</td>\n",
       "      <td>1</td>\n",
       "      <td>(1.0,(3000,[0,156,319,341,736,957,1216,1237,14...</td>\n",
       "    </tr>\n",
       "    <tr>\n",
       "      <th>4993</th>\n",
       "      <td>[, kakak, birthdai today,  , kakak birthdai, t...</td>\n",
       "      <td>1</td>\n",
       "      <td>(1.0,(3000,[0,102,950,1208,1321,2011,2711,2890...</td>\n",
       "    </tr>\n",
       "    <tr>\n",
       "      <th>4994</th>\n",
       "      <td>[please, , your, make up, mind please, up, ple...</td>\n",
       "      <td>1</td>\n",
       "      <td>(1.0,(3000,[0,213,374,581,613,684,906,1566,181...</td>\n",
       "    </tr>\n",
       "    <tr>\n",
       "      <th>4995</th>\n",
       "      <td>[, name, forgot it, thank you, your, it thank,...</td>\n",
       "      <td>1</td>\n",
       "      <td>(1.0,(3000,[0,10,176,200,285,306,452,581,596,6...</td>\n",
       "    </tr>\n",
       "    <tr>\n",
       "      <th>4996</th>\n",
       "      <td>[, next , what come, what, you know, httpstcow...</td>\n",
       "      <td>1</td>\n",
       "      <td>(1.0,(3000,[0,576,652,1167,1321,1749,1770,1818...</td>\n",
       "    </tr>\n",
       "    <tr>\n",
       "      <th>4997</th>\n",
       "      <td>[ where, , great time, had, usernam sound, a, ...</td>\n",
       "      <td>1</td>\n",
       "      <td>(1.0,(3000,[0,91,344,663,785,903,976,1090,1153...</td>\n",
       "    </tr>\n",
       "    <tr>\n",
       "      <th>4998</th>\n",
       "      <td>[, ar conceiv, conceiv, realli hot, children, ...</td>\n",
       "      <td>1</td>\n",
       "      <td>(1.0,(3000,[0,101,133,271,487,518,562,682,838,...</td>\n",
       "    </tr>\n",
       "    <tr>\n",
       "      <th>4999</th>\n",
       "      <td>[, usernam usernam, usernam me, it, me, me lik...</td>\n",
       "      <td>1</td>\n",
       "      <td>(1.0,(3000,[0,876,1165,1216,1406,1779,1829,203...</td>\n",
       "    </tr>\n",
       "    <tr>\n",
       "      <th>5000</th>\n",
       "      <td>[, for, in, follow us, pleas keep, touch, us u...</td>\n",
       "      <td>1</td>\n",
       "      <td>(1.0,(3000,[0,176,180,214,273,441,519,546,613,...</td>\n",
       "    </tr>\n",
       "    <tr>\n",
       "      <th>5001</th>\n",
       "      <td>[, read, great wednesday, insight, have, your,...</td>\n",
       "      <td>1</td>\n",
       "      <td>(1.0,(3000,[0,78,100,145,344,542,581,735,784,8...</td>\n",
       "    </tr>\n",
       "    <tr>\n",
       "      <th>5002</th>\n",
       "      <td>[, usernam parceli, brilliant mate, parceli us...</td>\n",
       "      <td>1</td>\n",
       "      <td>(1.0,(3000,[0,168,600,888,1216,1255,1554,2764,...</td>\n",
       "    </tr>\n",
       "  </tbody>\n",
       "</table>\n",
       "<p>5003 rows × 3 columns</p>\n",
       "</div>"
      ],
      "text/plain": [
       "                                                 tokens  label  \\\n",
       "0     [, the case, be the, would be, feel, we had, w...      1   \n",
       "1     [, satu, tapii, kan, cuma, jam sama, handshak,...      0   \n",
       "2     [, want, tattoo, want tattoo, i, tattoo , i want]      0   \n",
       "3     [, maybe, yeah maybe, rawr yeah, rawr, know, k...      0   \n",
       "4       [, ay grabe, grabe,  , usernam ay, usernam, ay]      0   \n",
       "5     [, aqui, calor aqui, sempr, tem, calor, aqui s...      0   \n",
       "6     [, usernam usernam, want, him, i, same, i want...      0   \n",
       "7     [, 1990 an, an waktu, masih, ngetwitnya, ngetw...      0   \n",
       "8                [, usernam cant, cant , usernam, cant]      0   \n",
       "9                                                    []      0   \n",
       "10    [, gigih cari, cari kat, googl, pink , kat, su...      0   \n",
       "11    [999 httpst, fifa, , usernam 999, httpstco4hpv...      0   \n",
       "12    [, realiz im, httpstcoevokfo3e1, oh, god, my g...      0   \n",
       "13    [want to, , so i, adult thing, dai off, have, ...      0   \n",
       "14                             [usernam, , usernam ,  ]      0   \n",
       "15    [down, , in, sad , slfl,  slfl, yall dont, die...      0   \n",
       "16    [, slow, theyr, but, realli slow, but theyr,  ...      0   \n",
       "17       [, sleep, i, sleep , i cant, cant sleep, cant]      0   \n",
       "18                                                [,  ]      0   \n",
       "19    [lo lo, , siap mati, hati lo, lo, jual hati, m...      0   \n",
       "20    [, why, it so, so, it, so nice, out with, hang...      0   \n",
       "21    [, laban, vid, ng, laban ng, shakeys , mai vid...      0   \n",
       "22    [giggl, , hurt, lol, hurt , dimpl start, giggl...      0   \n",
       "23    [est, liquid, negro, necesita, uno negro, ya, ...      0   \n",
       "24    [, ok la, cantik, la aku, usernam sebab, sebab...      0   \n",
       "25     [, coi5pr88hgvv,  httpst,  , httpstcoi5pr88hgvv]      0   \n",
       "26    [, lg nyambung, usernam twenti, usernam naik, ...      0   \n",
       "27    [,  httpst, emphasi on, open, on, emphasi, coz...      0   \n",
       "28    [, in, si,  httpst, we in, boat, boat si, the ...      0   \n",
       "29        [, httpstcowgd2rzvtbj,  httpst, cowgd2rzvtbj]      0   \n",
       "...                                                 ...    ...   \n",
       "4973  [corner , , good, a dutch, usernam we, it, a, ...      1   \n",
       "4974  [newsjunkieswmo, , children, rowl sai, jk rowl...      1   \n",
       "4975  [close masih, , masih, sini, join, good, yadon...      1   \n",
       "4976  [, for, is, rest, no kathmandu, us, nepal, of ...      1   \n",
       "4977  [colleenstaver wititud, , colleenstaver, coaip...      1   \n",
       "4978  [biglaa 3, please, , kita biglaa, 3 , soon, ht...      1   \n",
       "4979  [, for, hour displai, displai pictur, on a, my...      1   \n",
       "4980  [, watch, otwolmanilainlov, rt,  pushawardsjad...      1   \n",
       "4981  [, mac, ani nativ, on an, hard, submiss, be tr...      1   \n",
       "4982  [httpstcowygktqb0ap, tara, , kayo magsit, cavi...      1   \n",
       "4983  [wow, , thank you,  awesom, usernam wow, good,...      1   \n",
       "4984  [for the, , for, follow usernam, insight, http...      1   \n",
       "4985  [, support, children, palestinian, our un2opt,...      1   \n",
       "4986  [, he so, usernam he, lucki , xx, good, so, lu...      1   \n",
       "4987  [, usernam usernam, hello , job, youth, youth ...      1   \n",
       "4988  [, so beauti, interview, tv interview, so,  ja...      1   \n",
       "4989  [, awkward, glitch, hilari, do you, good, do, ...      1   \n",
       "4990  [, jourdanjai, usernam jourdanjai, usernam, jo...      1   \n",
       "4991  [e, , e publish, will tweet, is, thanks, tweet...      1   \n",
       "4992  [, wala po, usernam wala, ata, at ica, po ata,...      1   \n",
       "4993  [, kakak, birthdai today,  , kakak birthdai, t...      1   \n",
       "4994  [please, , your, make up, mind please, up, ple...      1   \n",
       "4995  [, name, forgot it, thank you, your, it thank,...      1   \n",
       "4996  [, next , what come, what, you know, httpstcow...      1   \n",
       "4997  [ where, , great time, had, usernam sound, a, ...      1   \n",
       "4998  [, ar conceiv, conceiv, realli hot, children, ...      1   \n",
       "4999  [, usernam usernam, usernam me, it, me, me lik...      1   \n",
       "5000  [, for, in, follow us, pleas keep, touch, us u...      1   \n",
       "5001  [, read, great wednesday, insight, have, your,...      1   \n",
       "5002  [, usernam parceli, brilliant mate, parceli us...      1   \n",
       "\n",
       "                                                 lpoint  \n",
       "0     (1.0,(3000,[0,79,91,189,241,344,446,656,762,96...  \n",
       "1     (0.0,(3000,[0,13,74,203,239,250,256,292,318,51...  \n",
       "2     (0.0,(3000,[0,186,438,1424,1903,2185,2622],[1....  \n",
       "3     (0.0,(3000,[0,116,437,675,1142,1216,1249,1465,...  \n",
       "4     (0.0,(3000,[0,960,1216,1321,1709,1833,2954],[1...  \n",
       "5     (0.0,(3000,[0,269,276,889,1216,1635,1774,2460,...  \n",
       "6     (0.0,(3000,[0,254,438,615,695,725,782,1125,121...  \n",
       "7     (0.0,(3000,[0,11,69,138,252,291,480,584,865,95...  \n",
       "8     (0.0,(3000,[0,1216,1767,2514,2691],[1.0,1.0,1....  \n",
       "9                                (0.0,(3000,[0],[1.0]))  \n",
       "10    (0.0,(3000,[0,23,96,376,587,849,1319,1350,1373...  \n",
       "11    (0.0,(3000,[0,317,452,1106,1216,1321,1375,1448...  \n",
       "12    (0.0,(3000,[0,12,138,271,452,858,905,916,951,1...  \n",
       "13    (0.0,(3000,[0,75,133,229,438,542,738,916,967,1...  \n",
       "14     (0.0,(3000,[0,317,1216,1321],[1.0,1.0,1.0,1.0]))  \n",
       "15    (0.0,(3000,[0,359,509,652,785,851,906,1037,105...  \n",
       "16    (0.0,(3000,[0,113,487,712,755,1321,1513,1846,1...  \n",
       "17    (0.0,(3000,[0,588,901,1424,1683,2265,2514],[1....  \n",
       "18                      (0.0,(3000,[0,1321],[1.0,1.0]))  \n",
       "19    (0.0,(3000,[0,9,94,135,149,207,258,375,1047,12...  \n",
       "20    (0.0,(3000,[0,229,237,596,693,857,916,1165,119...  \n",
       "21    (0.0,(3000,[0,14,289,552,593,669,957,969,1023,...  \n",
       "22    (0.0,(3000,[0,12,25,97,651,727,868,1007,1493,1...  \n",
       "23    (0.0,(3000,[69,249,284,321,331,344,476,494,734...  \n",
       "24    (0.0,(3000,[0,140,396,403,430,549,702,781,1038...  \n",
       "25    (0.0,(3000,[0,1321,1558,2133,2306],[1.0,1.0,1....  \n",
       "26    (0.0,(3000,[0,26,131,188,705,805,873,1216,1321...  \n",
       "27    (0.0,(3000,[0,5,625,700,1092,1866,2289,2306,23...  \n",
       "28    (0.0,(3000,[0,24,203,254,357,394,501,914,1034,...  \n",
       "29     (0.0,(3000,[0,428,2299,2306],[1.0,1.0,1.0,1.0]))  \n",
       "...                                                 ...  \n",
       "4973  (1.0,(3000,[0,344,595,762,881,937,1165,1216,14...  \n",
       "4974  (1.0,(3000,[0,77,99,221,307,862,886,991,1041,1...  \n",
       "4975  (1.0,(3000,[0,291,536,579,695,762,777,836,1052...  \n",
       "4976  (1.0,(3000,[0,24,214,479,662,692,939,967,1015,...  \n",
       "4977  (1.0,(3000,[0,109,239,245,626,862,886,1514,158...  \n",
       "4978  (1.0,(3000,[0,106,200,209,221,714,755,764,834,...  \n",
       "4979  (1.0,(3000,[0,12,148,344,593,686,720,730,760,8...  \n",
       "4980  (1.0,(3000,[0,905,925,1030,1126,1186,1248,1321...  \n",
       "4981  (1.0,(3000,[0,12,33,67,105,189,231,341,420,439...  \n",
       "4982  (1.0,(3000,[0,329,341,440,452,534,747,807,922,...  \n",
       "4983  (1.0,(3000,[0,94,551,578,613,631,665,762,780,1...  \n",
       "4984  (1.0,(3000,[0,44,125,145,180,344,542,613,731,8...  \n",
       "4985  (1.0,(3000,[0,214,219,383,533,577,651,705,862,...  \n",
       "4986  (1.0,(3000,[0,159,514,678,762,800,891,916,1216...  \n",
       "4987  (1.0,(3000,[0,190,496,829,872,945,1089,1175,12...  \n",
       "4988  (1.0,(3000,[0,28,194,287,759,799,916,965,1207,...  \n",
       "4989  (1.0,(3000,[0,42,455,525,681,732,762,952,959,1...  \n",
       "4990  (1.0,(3000,[0,285,894,920,1216],[1.0,1.0,1.0,1...  \n",
       "4991  (1.0,(3000,[0,116,150,289,388,528,532,782,826,...  \n",
       "4992  (1.0,(3000,[0,156,319,341,736,957,1216,1237,14...  \n",
       "4993  (1.0,(3000,[0,102,950,1208,1321,2011,2711,2890...  \n",
       "4994  (1.0,(3000,[0,213,374,581,613,684,906,1566,181...  \n",
       "4995  (1.0,(3000,[0,10,176,200,285,306,452,581,596,6...  \n",
       "4996  (1.0,(3000,[0,576,652,1167,1321,1749,1770,1818...  \n",
       "4997  (1.0,(3000,[0,91,344,663,785,903,976,1090,1153...  \n",
       "4998  (1.0,(3000,[0,101,133,271,487,518,562,682,838,...  \n",
       "4999  (1.0,(3000,[0,876,1165,1216,1406,1779,1829,203...  \n",
       "5000  (1.0,(3000,[0,176,180,214,273,441,519,546,613,...  \n",
       "5001  (1.0,(3000,[0,78,100,145,344,542,581,735,784,8...  \n",
       "5002  (1.0,(3000,[0,168,600,888,1216,1255,1554,2764,...  \n",
       "\n",
       "[5003 rows x 3 columns]"
      ]
     },
     "execution_count": 82,
     "metadata": {},
     "output_type": "execute_result"
    }
   ],
   "source": [
    "df"
   ]
  },
  {
   "cell_type": "code",
   "execution_count": 83,
   "metadata": {
    "collapsed": false
   },
   "outputs": [],
   "source": [
    "#lpoints = df['lpoint']\n",
    "#rdd = sc.parallelize(lpoints.map(lambda point: point.features).tolist())\n",
    "#pca = PCA(3).fit(rdd)\n",
    "#df['pca'] = df.apply(lambda row: pca.transform(row['lpoint'].features), axis=1)\n",
    "#df['pca_0'] = df.apply(lambda row: row['pca'][0], axis=1)\n",
    "#df['pca_1'] = df.apply(lambda row: row['pca'][1], axis=1)\n",
    "#viz = df[['label', 'pca_0', 'pca_1']]"
   ]
  },
  {
   "cell_type": "code",
   "execution_count": 84,
   "metadata": {
    "collapsed": false
   },
   "outputs": [],
   "source": [
    "#_ = sns.pairplot(viz, vars=['pca_0', 'pca_1'], hue=\"label\", size=6.0)"
   ]
  },
  {
   "cell_type": "markdown",
   "metadata": {},
   "source": [
    "# Train a Logistic Regression classifier"
   ]
  },
  {
   "cell_type": "code",
   "execution_count": 85,
   "metadata": {
    "collapsed": true
   },
   "outputs": [],
   "source": [
    "from pyspark.mllib.classification import LogisticRegressionWithSGD\n",
    "from pyspark.mllib.classification import LabeledPoint"
   ]
  },
  {
   "cell_type": "markdown",
   "metadata": {},
   "source": [
    "Let's add a new column with `LabeledPoint`s consisting of TF-IDF vectors."
   ]
  },
  {
   "cell_type": "code",
   "execution_count": 86,
   "metadata": {
    "collapsed": false
   },
   "outputs": [],
   "source": [
    "train_rdd = sc.parallelize(train.lpoint)"
   ]
  },
  {
   "cell_type": "markdown",
   "metadata": {},
   "source": [
    "Now train the logistic regression estimator."
   ]
  },
  {
   "cell_type": "code",
   "execution_count": 87,
   "metadata": {
    "collapsed": true
   },
   "outputs": [],
   "source": [
    "lr = LogisticRegressionWithSGD.train(train_rdd, initialWeights=Vectors.zeros(coeff), iterations=200)"
   ]
  },
  {
   "cell_type": "markdown",
   "metadata": {},
   "source": [
    "# Test"
   ]
  },
  {
   "cell_type": "code",
   "execution_count": 88,
   "metadata": {
    "collapsed": false
   },
   "outputs": [
    {
     "name": "stderr",
     "output_type": "stream",
     "text": [
      "/Users/rene/anaconda/lib/python2.7/site-packages/IPython/kernel/__main__.py:1: SettingWithCopyWarning: \n",
      "A value is trying to be set on a copy of a slice from a DataFrame.\n",
      "Try using .loc[row_indexer,col_indexer] = value instead\n",
      "\n",
      "See the the caveats in the documentation: http://pandas.pydata.org/pandas-docs/stable/indexing.html#indexing-view-versus-copy\n",
      "  if __name__ == '__main__':\n"
     ]
    }
   ],
   "source": [
    "test['pred'] = test.apply(lambda row: lr.predict(row['lpoint'].features), axis=1)"
   ]
  },
  {
   "cell_type": "code",
   "execution_count": 89,
   "metadata": {
    "collapsed": false
   },
   "outputs": [
    {
     "data": {
      "text/html": [
       "<div>\n",
       "<table border=\"1\" class=\"dataframe\">\n",
       "  <thead>\n",
       "    <tr style=\"text-align: right;\">\n",
       "      <th></th>\n",
       "      <th>tokens</th>\n",
       "      <th>label</th>\n",
       "      <th>lpoint</th>\n",
       "      <th>pred</th>\n",
       "    </tr>\n",
       "  </thead>\n",
       "  <tbody>\n",
       "    <tr>\n",
       "      <th>8</th>\n",
       "      <td>[, usernam cant, cant , usernam, cant]</td>\n",
       "      <td>0</td>\n",
       "      <td>(0.0,(3000,[0,1216,1767,2514,2691],[1.0,1.0,1....</td>\n",
       "      <td>0</td>\n",
       "    </tr>\n",
       "    <tr>\n",
       "      <th>10</th>\n",
       "      <td>[, gigih cari, cari kat, googl, pink , kat, su...</td>\n",
       "      <td>0</td>\n",
       "      <td>(0.0,(3000,[0,23,96,376,587,849,1319,1350,1373...</td>\n",
       "      <td>0</td>\n",
       "    </tr>\n",
       "    <tr>\n",
       "      <th>27</th>\n",
       "      <td>[,  httpst, emphasi on, open, on, emphasi, coz...</td>\n",
       "      <td>0</td>\n",
       "      <td>(0.0,(3000,[0,5,625,700,1092,1866,2289,2306,23...</td>\n",
       "      <td>0</td>\n",
       "    </tr>\n",
       "    <tr>\n",
       "      <th>41</th>\n",
       "      <td>[want to, , for, art, cant stop, have heart, m...</td>\n",
       "      <td>0</td>\n",
       "      <td>(0.0,(3000,[0,12,25,56,92,191,290,356,438,542,...</td>\n",
       "      <td>0</td>\n",
       "    </tr>\n",
       "    <tr>\n",
       "      <th>44</th>\n",
       "      <td>[, feel, person i, feel comfort, talk to, coul...</td>\n",
       "      <td>0</td>\n",
       "      <td>(0.0,(3000,[0,214,307,317,389,432,558,585,608,...</td>\n",
       "      <td>0</td>\n",
       "    </tr>\n",
       "    <tr>\n",
       "      <th>46</th>\n",
       "      <td>[saya haru, , saya, lagi, bro, gimana lagi, la...</td>\n",
       "      <td>0</td>\n",
       "      <td>(0.0,(3000,[0,230,583,672,693,781,1050,1244,17...</td>\n",
       "      <td>0</td>\n",
       "    </tr>\n",
       "    <tr>\n",
       "      <th>47</th>\n",
       "      <td>[, usernam disgusting, sad , have, she must, j...</td>\n",
       "      <td>0</td>\n",
       "      <td>(0.0,(3000,[0,138,542,681,688,792,916,1216,126...</td>\n",
       "      <td>0</td>\n",
       "    </tr>\n",
       "    <tr>\n",
       "      <th>59</th>\n",
       "      <td>[incident, allah maaf, le, , ya, in, sad incid...</td>\n",
       "      <td>0</td>\n",
       "      <td>(0.0,(3000,[0,17,22,210,259,278,441,447,502,90...</td>\n",
       "      <td>0</td>\n",
       "    </tr>\n",
       "    <tr>\n",
       "      <th>62</th>\n",
       "      <td>[, dean,  httpst, care, coxuqjh2lhvm, take, ca...</td>\n",
       "      <td>0</td>\n",
       "      <td>(0.0,(3000,[0,289,1103,1131,1196,1549,1572,170...</td>\n",
       "      <td>0</td>\n",
       "    </tr>\n",
       "    <tr>\n",
       "      <th>64</th>\n",
       "      <td>[, tengo que, me tengo, igual, ltima creo, use...</td>\n",
       "      <td>0</td>\n",
       "      <td>(0.0,(3000,[0,332,655,732,812,839,857,884,949,...</td>\n",
       "      <td>1</td>\n",
       "    </tr>\n",
       "    <tr>\n",
       "      <th>82</th>\n",
       "      <td>[, for, sorri, im sorri, sorri for, stand berg...</td>\n",
       "      <td>0</td>\n",
       "      <td>(0.0,(3000,[0,228,621,693,845,875,985,1015,117...</td>\n",
       "      <td>0</td>\n",
       "    </tr>\n",
       "    <tr>\n",
       "      <th>90</th>\n",
       "      <td>[, httpstcofa31skmwuf,  httpst,  , cofa31skmwuf]</td>\n",
       "      <td>0</td>\n",
       "      <td>(0.0,(3000,[0,5,1321,1826,2306],[1.0,1.0,1.0,1...</td>\n",
       "      <td>0</td>\n",
       "    </tr>\n",
       "    <tr>\n",
       "      <th>93</th>\n",
       "      <td>[,  puta, po ako, bigyan,  at, guys, papakatib...</td>\n",
       "      <td>0</td>\n",
       "      <td>(0.0,(3000,[0,64,172,283,329,341,372,434,442,5...</td>\n",
       "      <td>0</td>\n",
       "    </tr>\n",
       "    <tr>\n",
       "      <th>97</th>\n",
       "      <td>[, jealou, okai pahal, usernam prihatin, okai,...</td>\n",
       "      <td>0</td>\n",
       "      <td>(0.0,(3000,[0,636,859,868,1063,1161,1170,1216,...</td>\n",
       "      <td>1</td>\n",
       "    </tr>\n",
       "    <tr>\n",
       "      <th>99</th>\n",
       "      <td>[, fuck, todai, earli todai, todai , it, earli...</td>\n",
       "      <td>0</td>\n",
       "      <td>(0.0,(3000,[0,86,601,1165,1194,1443,1555,1584,...</td>\n",
       "      <td>0</td>\n",
       "    </tr>\n",
       "    <tr>\n",
       "      <th>106</th>\n",
       "      <td>[cokunguc6m2x, , httpstcokunguc6m2x, rin,  htt...</td>\n",
       "      <td>0</td>\n",
       "      <td>(0.0,(3000,[0,3,422,1216,1356,1576,1839,1973,2...</td>\n",
       "      <td>0</td>\n",
       "    </tr>\n",
       "    <tr>\n",
       "      <th>115</th>\n",
       "      <td>[want to, , chang, want, chang , idk, usernam ...</td>\n",
       "      <td>0</td>\n",
       "      <td>(0.0,(3000,[0,438,1064,1186,1216,1259,1424,190...</td>\n",
       "      <td>0</td>\n",
       "    </tr>\n",
       "    <tr>\n",
       "      <th>117</th>\n",
       "      <td>[, nakabog , eh nakabog, nakabog, usernam naka...</td>\n",
       "      <td>0</td>\n",
       "      <td>(0.0,(3000,[0,1055,1198,1216,1590,2509,2539,25...</td>\n",
       "      <td>0</td>\n",
       "    </tr>\n",
       "    <tr>\n",
       "      <th>118</th>\n",
       "      <td>[usernam wong, , terbentuk, terbentuk dari, te...</td>\n",
       "      <td>0</td>\n",
       "      <td>(0.0,(3000,[0,445,610,900,931,1216,1485,1586,1...</td>\n",
       "      <td>1</td>\n",
       "    </tr>\n",
       "    <tr>\n",
       "      <th>120</th>\n",
       "      <td>[usernam, , usernam ,  ]</td>\n",
       "      <td>0</td>\n",
       "      <td>(0.0,(3000,[0,317,1216,1321],[1.0,1.0,1.0,1.0]))</td>\n",
       "      <td>1</td>\n",
       "    </tr>\n",
       "    <tr>\n",
       "      <th>123</th>\n",
       "      <td>[follow mebtw, niall, your, actual mean, your ...</td>\n",
       "      <td>0</td>\n",
       "      <td>(0.0,(3000,[16,44,175,180,312,404,405,581,785,...</td>\n",
       "      <td>0</td>\n",
       "    </tr>\n",
       "    <tr>\n",
       "      <th>126</th>\n",
       "      <td>[naman nyan, aldub16thweeksari httpst, colgtcs...</td>\n",
       "      <td>0</td>\n",
       "      <td>(0.0,(3000,[37,227,284,692,764,851,1017,1129,1...</td>\n",
       "      <td>0</td>\n",
       "    </tr>\n",
       "    <tr>\n",
       "      <th>138</th>\n",
       "      <td>[usernam, , usernam ]</td>\n",
       "      <td>0</td>\n",
       "      <td>(0.0,(3000,[0,317,1216],[1.0,1.0,1.0]))</td>\n",
       "      <td>0</td>\n",
       "    </tr>\n",
       "    <tr>\n",
       "      <th>141</th>\n",
       "      <td>[, ir , quiero ir, ir, quiero]</td>\n",
       "      <td>0</td>\n",
       "      <td>(0.0,(3000,[0,159,1163,1419,1448],[1.0,1.0,1.0...</td>\n",
       "      <td>0</td>\n",
       "    </tr>\n",
       "    <tr>\n",
       "      <th>145</th>\n",
       "      <td>[ur okai, , and feel, feel, soon, hope ur, bet...</td>\n",
       "      <td>0</td>\n",
       "      <td>(0.0,(3000,[0,160,176,200,215,221,317,565,609,...</td>\n",
       "      <td>0</td>\n",
       "    </tr>\n",
       "    <tr>\n",
       "      <th>155</th>\n",
       "      <td>[usernam wong, wong httpst, unikernels, have, ...</td>\n",
       "      <td>0</td>\n",
       "      <td>(0.0,(3000,[248,419,542,610,685,817,824,979,11...</td>\n",
       "      <td>1</td>\n",
       "    </tr>\n",
       "    <tr>\n",
       "      <th>163</th>\n",
       "      <td>[scare, , win, is, scare me, win a, uk, what, ...</td>\n",
       "      <td>0</td>\n",
       "      <td>(0.0,(3000,[0,56,90,200,222,344,364,474,596,67...</td>\n",
       "      <td>1</td>\n",
       "    </tr>\n",
       "    <tr>\n",
       "      <th>171</th>\n",
       "      <td>[, pinapakita, is, parang, ako kc, c meng, pin...</td>\n",
       "      <td>0</td>\n",
       "      <td>(0.0,(3000,[0,260,332,333,341,423,440,460,487,...</td>\n",
       "      <td>0</td>\n",
       "    </tr>\n",
       "    <tr>\n",
       "      <th>178</th>\n",
       "      <td>[masih, fav, httpstcou7g2gdbqo7, fav httpst, m...</td>\n",
       "      <td>0</td>\n",
       "      <td>(0.0,(3000,[291,1390,1420,1482,2621,2908],[1.0...</td>\n",
       "      <td>1</td>\n",
       "    </tr>\n",
       "    <tr>\n",
       "      <th>183</th>\n",
       "      <td>[, jakarta, kan, usernam azahra, azahra, azahr...</td>\n",
       "      <td>0</td>\n",
       "      <td>(0.0,(3000,[0,8,13,137,209,231,513,536,573,663...</td>\n",
       "      <td>0</td>\n",
       "    </tr>\n",
       "    <tr>\n",
       "      <th>...</th>\n",
       "      <td>...</td>\n",
       "      <td>...</td>\n",
       "      <td>...</td>\n",
       "      <td>...</td>\n",
       "    </tr>\n",
       "    <tr>\n",
       "      <th>4871</th>\n",
       "      <td>[, for, have, wednesdai , usernam thank, a,  ,...</td>\n",
       "      <td>1</td>\n",
       "      <td>(1.0,(3000,[0,180,344,542,613,1090,1153,1166,1...</td>\n",
       "      <td>1</td>\n",
       "    </tr>\n",
       "    <tr>\n",
       "      <th>4883</th>\n",
       "      <td>[, usernam you, usernam usernam, you know, goo...</td>\n",
       "      <td>1</td>\n",
       "      <td>(1.0,(3000,[0,762,1165,1216,1406,1749,1882,196...</td>\n",
       "      <td>1</td>\n",
       "    </tr>\n",
       "    <tr>\n",
       "      <th>4884</th>\n",
       "      <td>[, for, oh, usernam usernam, that must, must, ...</td>\n",
       "      <td>1</td>\n",
       "      <td>(1.0,(3000,[0,180,242,283,344,418,613,858,979,...</td>\n",
       "      <td>1</td>\n",
       "    </tr>\n",
       "    <tr>\n",
       "      <th>4885</th>\n",
       "      <td>[, children, cofpwdvgpyoq,  pointluck1, guides...</td>\n",
       "      <td>1</td>\n",
       "      <td>(1.0,(3000,[0,83,262,516,605,862,886,1006,1034...</td>\n",
       "      <td>0</td>\n",
       "    </tr>\n",
       "    <tr>\n",
       "      <th>4886</th>\n",
       "      <td>[, have, your, usernam hi, seen, and you, emai...</td>\n",
       "      <td>1</td>\n",
       "      <td>(1.0,(3000,[0,75,147,176,344,542,581,664,742,8...</td>\n",
       "      <td>1</td>\n",
       "    </tr>\n",
       "    <tr>\n",
       "      <th>4887</th>\n",
       "      <td>[n g, i n, c h, , s, s , n, h a, i s, a, a r, ...</td>\n",
       "      <td>1</td>\n",
       "      <td>(1.0,(3000,[0,121,266,344,482,552,553,859,1274...</td>\n",
       "      <td>0</td>\n",
       "    </tr>\n",
       "    <tr>\n",
       "      <th>4889</th>\n",
       "      <td>[, want, anyth, anyth thei, ship anyth, peopl ...</td>\n",
       "      <td>1</td>\n",
       "      <td>(1.0,(3000,[0,238,278,438,593,746,884,1019,113...</td>\n",
       "      <td>0</td>\n",
       "    </tr>\n",
       "    <tr>\n",
       "      <th>4894</th>\n",
       "      <td>[, good, usernam buda, trjan , buda p, buda, p...</td>\n",
       "      <td>1</td>\n",
       "      <td>(1.0,(3000,[0,98,121,488,523,616,762,1216,1858...</td>\n",
       "      <td>1</td>\n",
       "    </tr>\n",
       "    <tr>\n",
       "      <th>4897</th>\n",
       "      <td>[, a, i need, rt, i,  , need, need a, usernam ...</td>\n",
       "      <td>1</td>\n",
       "      <td>(1.0,(3000,[0,80,129,344,443,1111,1216,1321,13...</td>\n",
       "      <td>0</td>\n",
       "    </tr>\n",
       "    <tr>\n",
       "      <th>4903</th>\n",
       "      <td>[, usernam handl,  , handl usernam, usernam , ...</td>\n",
       "      <td>1</td>\n",
       "      <td>(1.0,(3000,[0,317,936,1216,1255,1321,1479],[1....</td>\n",
       "      <td>1</td>\n",
       "    </tr>\n",
       "    <tr>\n",
       "      <th>4905</th>\n",
       "      <td>[, nettl sting, usernam usernam, xx, nettl,  ,...</td>\n",
       "      <td>1</td>\n",
       "      <td>(1.0,(3000,[0,35,76,262,514,891,1216,1321,1655...</td>\n",
       "      <td>1</td>\n",
       "    </tr>\n",
       "    <tr>\n",
       "      <th>4907</th>\n",
       "      <td>[, usernam usernam, hello , job, youth, youth ...</td>\n",
       "      <td>1</td>\n",
       "      <td>(1.0,(3000,[0,190,496,829,872,945,1089,1175,12...</td>\n",
       "      <td>1</td>\n",
       "    </tr>\n",
       "    <tr>\n",
       "      <th>4912</th>\n",
       "      <td>[httpstcocs30mrjoik, for the, , for, follow us...</td>\n",
       "      <td>1</td>\n",
       "      <td>(1.0,(3000,[0,125,145,180,344,542,613,662,731,...</td>\n",
       "      <td>1</td>\n",
       "    </tr>\n",
       "    <tr>\n",
       "      <th>4913</th>\n",
       "      <td>[, is, cute, so, aww, that, usernam aww, cute ...</td>\n",
       "      <td>1</td>\n",
       "      <td>(1.0,(3000,[0,322,916,1162,1216,1239,1312,1316...</td>\n",
       "      <td>0</td>\n",
       "    </tr>\n",
       "    <tr>\n",
       "      <th>4914</th>\n",
       "      <td>[, to connect, usernam usernam, connect, conne...</td>\n",
       "      <td>1</td>\n",
       "      <td>(1.0,(3000,[0,125,613,1112,1134,1216,1656,1937...</td>\n",
       "      <td>1</td>\n",
       "    </tr>\n",
       "    <tr>\n",
       "      <th>4924</th>\n",
       "      <td>[, appal, comment on, as a, a, usernam ill, as...</td>\n",
       "      <td>1</td>\n",
       "      <td>(1.0,(3000,[0,12,72,176,198,218,253,327,344,45...</td>\n",
       "      <td>1</td>\n",
       "    </tr>\n",
       "    <tr>\n",
       "      <th>4929</th>\n",
       "      <td>[1to, , becom 1to, have, on a, will becom, goo...</td>\n",
       "      <td>1</td>\n",
       "      <td>(1.0,(3000,[0,3,61,249,273,344,528,542,619,762...</td>\n",
       "      <td>1</td>\n",
       "    </tr>\n",
       "    <tr>\n",
       "      <th>4932</th>\n",
       "      <td>[, ar conceiv, conceiv, realli hot, children, ...</td>\n",
       "      <td>1</td>\n",
       "      <td>(1.0,(3000,[0,101,133,271,442,487,518,562,565,...</td>\n",
       "      <td>1</td>\n",
       "    </tr>\n",
       "    <tr>\n",
       "      <th>4940</th>\n",
       "      <td>[, for, smile , for make, smile, usernam https...</td>\n",
       "      <td>1</td>\n",
       "      <td>(1.0,(3000,[0,61,180,613,906,1130,1216,1315,13...</td>\n",
       "      <td>1</td>\n",
       "    </tr>\n",
       "    <tr>\n",
       "      <th>4942</th>\n",
       "      <td>[, usernam crypto, good, at least, so, you at,...</td>\n",
       "      <td>1</td>\n",
       "      <td>(1.0,(3000,[0,597,638,652,692,916,917,957,1006...</td>\n",
       "      <td>1</td>\n",
       "    </tr>\n",
       "    <tr>\n",
       "      <th>4947</th>\n",
       "      <td>[,  sapn, saro, usernam usernam, but, ne , ms ...</td>\n",
       "      <td>1</td>\n",
       "      <td>(1.0,(3000,[0,6,121,127,241,283,309,327,530,64...</td>\n",
       "      <td>1</td>\n",
       "    </tr>\n",
       "    <tr>\n",
       "      <th>4949</th>\n",
       "      <td>[, love it, it,  , still love, love, still, us...</td>\n",
       "      <td>1</td>\n",
       "      <td>(1.0,(3000,[0,432,868,1165,1216,1321,1406,1668...</td>\n",
       "      <td>1</td>\n",
       "    </tr>\n",
       "    <tr>\n",
       "      <th>4957</th>\n",
       "      <td>[a job, for the, , for,  great, see a, austin,...</td>\n",
       "      <td>1</td>\n",
       "      <td>(1.0,(3000,[0,3,31,106,293,344,381,524,528,613...</td>\n",
       "      <td>1</td>\n",
       "    </tr>\n",
       "    <tr>\n",
       "      <th>4962</th>\n",
       "      <td>[, men , good, just, men, i just, i, love, jus...</td>\n",
       "      <td>1</td>\n",
       "      <td>(1.0,(3000,[0,271,299,762,924,1424,1495,1668,2...</td>\n",
       "      <td>1</td>\n",
       "    </tr>\n",
       "    <tr>\n",
       "      <th>4965</th>\n",
       "      <td>[, for, insight, have, cov01enzzvd1, ne money,...</td>\n",
       "      <td>1</td>\n",
       "      <td>(1.0,(3000,[0,145,180,344,542,613,688,1021,109...</td>\n",
       "      <td>1</td>\n",
       "    </tr>\n",
       "    <tr>\n",
       "      <th>4975</th>\n",
       "      <td>[close masih, , masih, sini, join, good, yadon...</td>\n",
       "      <td>1</td>\n",
       "      <td>(1.0,(3000,[0,291,536,579,695,762,777,836,1052...</td>\n",
       "      <td>1</td>\n",
       "    </tr>\n",
       "    <tr>\n",
       "      <th>4977</th>\n",
       "      <td>[colleenstaver wititud, , colleenstaver, coaip...</td>\n",
       "      <td>1</td>\n",
       "      <td>(1.0,(3000,[0,109,239,245,626,862,886,1514,158...</td>\n",
       "      <td>1</td>\n",
       "    </tr>\n",
       "    <tr>\n",
       "      <th>4985</th>\n",
       "      <td>[, support, children, palestinian, our un2opt,...</td>\n",
       "      <td>1</td>\n",
       "      <td>(1.0,(3000,[0,214,219,383,533,577,651,705,862,...</td>\n",
       "      <td>1</td>\n",
       "    </tr>\n",
       "    <tr>\n",
       "      <th>4990</th>\n",
       "      <td>[, jourdanjai, usernam jourdanjai, usernam, jo...</td>\n",
       "      <td>1</td>\n",
       "      <td>(1.0,(3000,[0,285,894,920,1216],[1.0,1.0,1.0,1...</td>\n",
       "      <td>0</td>\n",
       "    </tr>\n",
       "    <tr>\n",
       "      <th>4998</th>\n",
       "      <td>[, ar conceiv, conceiv, realli hot, children, ...</td>\n",
       "      <td>1</td>\n",
       "      <td>(1.0,(3000,[0,101,133,271,487,518,562,682,838,...</td>\n",
       "      <td>1</td>\n",
       "    </tr>\n",
       "  </tbody>\n",
       "</table>\n",
       "<p>989 rows × 4 columns</p>\n",
       "</div>"
      ],
      "text/plain": [
       "                                                 tokens  label  \\\n",
       "8                [, usernam cant, cant , usernam, cant]      0   \n",
       "10    [, gigih cari, cari kat, googl, pink , kat, su...      0   \n",
       "27    [,  httpst, emphasi on, open, on, emphasi, coz...      0   \n",
       "41    [want to, , for, art, cant stop, have heart, m...      0   \n",
       "44    [, feel, person i, feel comfort, talk to, coul...      0   \n",
       "46    [saya haru, , saya, lagi, bro, gimana lagi, la...      0   \n",
       "47    [, usernam disgusting, sad , have, she must, j...      0   \n",
       "59    [incident, allah maaf, le, , ya, in, sad incid...      0   \n",
       "62    [, dean,  httpst, care, coxuqjh2lhvm, take, ca...      0   \n",
       "64    [, tengo que, me tengo, igual, ltima creo, use...      0   \n",
       "82    [, for, sorri, im sorri, sorri for, stand berg...      0   \n",
       "90     [, httpstcofa31skmwuf,  httpst,  , cofa31skmwuf]      0   \n",
       "93    [,  puta, po ako, bigyan,  at, guys, papakatib...      0   \n",
       "97    [, jealou, okai pahal, usernam prihatin, okai,...      0   \n",
       "99    [, fuck, todai, earli todai, todai , it, earli...      0   \n",
       "106   [cokunguc6m2x, , httpstcokunguc6m2x, rin,  htt...      0   \n",
       "115   [want to, , chang, want, chang , idk, usernam ...      0   \n",
       "117   [, nakabog , eh nakabog, nakabog, usernam naka...      0   \n",
       "118   [usernam wong, , terbentuk, terbentuk dari, te...      0   \n",
       "120                            [usernam, , usernam ,  ]      0   \n",
       "123   [follow mebtw, niall, your, actual mean, your ...      0   \n",
       "126   [naman nyan, aldub16thweeksari httpst, colgtcs...      0   \n",
       "138                               [usernam, , usernam ]      0   \n",
       "141                      [, ir , quiero ir, ir, quiero]      0   \n",
       "145   [ur okai, , and feel, feel, soon, hope ur, bet...      0   \n",
       "155   [usernam wong, wong httpst, unikernels, have, ...      0   \n",
       "163   [scare, , win, is, scare me, win a, uk, what, ...      0   \n",
       "171   [, pinapakita, is, parang, ako kc, c meng, pin...      0   \n",
       "178   [masih, fav, httpstcou7g2gdbqo7, fav httpst, m...      0   \n",
       "183   [, jakarta, kan, usernam azahra, azahra, azahr...      0   \n",
       "...                                                 ...    ...   \n",
       "4871  [, for, have, wednesdai , usernam thank, a,  ,...      1   \n",
       "4883  [, usernam you, usernam usernam, you know, goo...      1   \n",
       "4884  [, for, oh, usernam usernam, that must, must, ...      1   \n",
       "4885  [, children, cofpwdvgpyoq,  pointluck1, guides...      1   \n",
       "4886  [, have, your, usernam hi, seen, and you, emai...      1   \n",
       "4887  [n g, i n, c h, , s, s , n, h a, i s, a, a r, ...      1   \n",
       "4889  [, want, anyth, anyth thei, ship anyth, peopl ...      1   \n",
       "4894  [, good, usernam buda, trjan , buda p, buda, p...      1   \n",
       "4897  [, a, i need, rt, i,  , need, need a, usernam ...      1   \n",
       "4903  [, usernam handl,  , handl usernam, usernam , ...      1   \n",
       "4905  [, nettl sting, usernam usernam, xx, nettl,  ,...      1   \n",
       "4907  [, usernam usernam, hello , job, youth, youth ...      1   \n",
       "4912  [httpstcocs30mrjoik, for the, , for, follow us...      1   \n",
       "4913  [, is, cute, so, aww, that, usernam aww, cute ...      1   \n",
       "4914  [, to connect, usernam usernam, connect, conne...      1   \n",
       "4924  [, appal, comment on, as a, a, usernam ill, as...      1   \n",
       "4929  [1to, , becom 1to, have, on a, will becom, goo...      1   \n",
       "4932  [, ar conceiv, conceiv, realli hot, children, ...      1   \n",
       "4940  [, for, smile , for make, smile, usernam https...      1   \n",
       "4942  [, usernam crypto, good, at least, so, you at,...      1   \n",
       "4947  [,  sapn, saro, usernam usernam, but, ne , ms ...      1   \n",
       "4949  [, love it, it,  , still love, love, still, us...      1   \n",
       "4957  [a job, for the, , for,  great, see a, austin,...      1   \n",
       "4962  [, men , good, just, men, i just, i, love, jus...      1   \n",
       "4965  [, for, insight, have, cov01enzzvd1, ne money,...      1   \n",
       "4975  [close masih, , masih, sini, join, good, yadon...      1   \n",
       "4977  [colleenstaver wititud, , colleenstaver, coaip...      1   \n",
       "4985  [, support, children, palestinian, our un2opt,...      1   \n",
       "4990  [, jourdanjai, usernam jourdanjai, usernam, jo...      1   \n",
       "4998  [, ar conceiv, conceiv, realli hot, children, ...      1   \n",
       "\n",
       "                                                 lpoint  pred  \n",
       "8     (0.0,(3000,[0,1216,1767,2514,2691],[1.0,1.0,1....     0  \n",
       "10    (0.0,(3000,[0,23,96,376,587,849,1319,1350,1373...     0  \n",
       "27    (0.0,(3000,[0,5,625,700,1092,1866,2289,2306,23...     0  \n",
       "41    (0.0,(3000,[0,12,25,56,92,191,290,356,438,542,...     0  \n",
       "44    (0.0,(3000,[0,214,307,317,389,432,558,585,608,...     0  \n",
       "46    (0.0,(3000,[0,230,583,672,693,781,1050,1244,17...     0  \n",
       "47    (0.0,(3000,[0,138,542,681,688,792,916,1216,126...     0  \n",
       "59    (0.0,(3000,[0,17,22,210,259,278,441,447,502,90...     0  \n",
       "62    (0.0,(3000,[0,289,1103,1131,1196,1549,1572,170...     0  \n",
       "64    (0.0,(3000,[0,332,655,732,812,839,857,884,949,...     1  \n",
       "82    (0.0,(3000,[0,228,621,693,845,875,985,1015,117...     0  \n",
       "90    (0.0,(3000,[0,5,1321,1826,2306],[1.0,1.0,1.0,1...     0  \n",
       "93    (0.0,(3000,[0,64,172,283,329,341,372,434,442,5...     0  \n",
       "97    (0.0,(3000,[0,636,859,868,1063,1161,1170,1216,...     1  \n",
       "99    (0.0,(3000,[0,86,601,1165,1194,1443,1555,1584,...     0  \n",
       "106   (0.0,(3000,[0,3,422,1216,1356,1576,1839,1973,2...     0  \n",
       "115   (0.0,(3000,[0,438,1064,1186,1216,1259,1424,190...     0  \n",
       "117   (0.0,(3000,[0,1055,1198,1216,1590,2509,2539,25...     0  \n",
       "118   (0.0,(3000,[0,445,610,900,931,1216,1485,1586,1...     1  \n",
       "120    (0.0,(3000,[0,317,1216,1321],[1.0,1.0,1.0,1.0]))     1  \n",
       "123   (0.0,(3000,[16,44,175,180,312,404,405,581,785,...     0  \n",
       "126   (0.0,(3000,[37,227,284,692,764,851,1017,1129,1...     0  \n",
       "138             (0.0,(3000,[0,317,1216],[1.0,1.0,1.0]))     0  \n",
       "141   (0.0,(3000,[0,159,1163,1419,1448],[1.0,1.0,1.0...     0  \n",
       "145   (0.0,(3000,[0,160,176,200,215,221,317,565,609,...     0  \n",
       "155   (0.0,(3000,[248,419,542,610,685,817,824,979,11...     1  \n",
       "163   (0.0,(3000,[0,56,90,200,222,344,364,474,596,67...     1  \n",
       "171   (0.0,(3000,[0,260,332,333,341,423,440,460,487,...     0  \n",
       "178   (0.0,(3000,[291,1390,1420,1482,2621,2908],[1.0...     1  \n",
       "183   (0.0,(3000,[0,8,13,137,209,231,513,536,573,663...     0  \n",
       "...                                                 ...   ...  \n",
       "4871  (1.0,(3000,[0,180,344,542,613,1090,1153,1166,1...     1  \n",
       "4883  (1.0,(3000,[0,762,1165,1216,1406,1749,1882,196...     1  \n",
       "4884  (1.0,(3000,[0,180,242,283,344,418,613,858,979,...     1  \n",
       "4885  (1.0,(3000,[0,83,262,516,605,862,886,1006,1034...     0  \n",
       "4886  (1.0,(3000,[0,75,147,176,344,542,581,664,742,8...     1  \n",
       "4887  (1.0,(3000,[0,121,266,344,482,552,553,859,1274...     0  \n",
       "4889  (1.0,(3000,[0,238,278,438,593,746,884,1019,113...     0  \n",
       "4894  (1.0,(3000,[0,98,121,488,523,616,762,1216,1858...     1  \n",
       "4897  (1.0,(3000,[0,80,129,344,443,1111,1216,1321,13...     0  \n",
       "4903  (1.0,(3000,[0,317,936,1216,1255,1321,1479],[1....     1  \n",
       "4905  (1.0,(3000,[0,35,76,262,514,891,1216,1321,1655...     1  \n",
       "4907  (1.0,(3000,[0,190,496,829,872,945,1089,1175,12...     1  \n",
       "4912  (1.0,(3000,[0,125,145,180,344,542,613,662,731,...     1  \n",
       "4913  (1.0,(3000,[0,322,916,1162,1216,1239,1312,1316...     0  \n",
       "4914  (1.0,(3000,[0,125,613,1112,1134,1216,1656,1937...     1  \n",
       "4924  (1.0,(3000,[0,12,72,176,198,218,253,327,344,45...     1  \n",
       "4929  (1.0,(3000,[0,3,61,249,273,344,528,542,619,762...     1  \n",
       "4932  (1.0,(3000,[0,101,133,271,442,487,518,562,565,...     1  \n",
       "4940  (1.0,(3000,[0,61,180,613,906,1130,1216,1315,13...     1  \n",
       "4942  (1.0,(3000,[0,597,638,652,692,916,917,957,1006...     1  \n",
       "4947  (1.0,(3000,[0,6,121,127,241,283,309,327,530,64...     1  \n",
       "4949  (1.0,(3000,[0,432,868,1165,1216,1321,1406,1668...     1  \n",
       "4957  (1.0,(3000,[0,3,31,106,293,344,381,524,528,613...     1  \n",
       "4962  (1.0,(3000,[0,271,299,762,924,1424,1495,1668,2...     1  \n",
       "4965  (1.0,(3000,[0,145,180,344,542,613,688,1021,109...     1  \n",
       "4975  (1.0,(3000,[0,291,536,579,695,762,777,836,1052...     1  \n",
       "4977  (1.0,(3000,[0,109,239,245,626,862,886,1514,158...     1  \n",
       "4985  (1.0,(3000,[0,214,219,383,533,577,651,705,862,...     1  \n",
       "4990  (1.0,(3000,[0,285,894,920,1216],[1.0,1.0,1.0,1...     0  \n",
       "4998  (1.0,(3000,[0,101,133,271,487,518,562,682,838,...     1  \n",
       "\n",
       "[989 rows x 4 columns]"
      ]
     },
     "execution_count": 89,
     "metadata": {},
     "output_type": "execute_result"
    }
   ],
   "source": [
    "test"
   ]
  },
  {
   "cell_type": "markdown",
   "metadata": {},
   "source": [
    "# Metrics"
   ]
  },
  {
   "cell_type": "code",
   "execution_count": 90,
   "metadata": {
    "collapsed": true
   },
   "outputs": [],
   "source": [
    "from pyspark.mllib.evaluation import BinaryClassificationMetrics\n",
    "from pyspark.mllib.evaluation import MulticlassMetrics"
   ]
  },
  {
   "cell_type": "code",
   "execution_count": 91,
   "metadata": {
    "collapsed": false
   },
   "outputs": [],
   "source": [
    "scoreAndLabels = test.apply(lambda row: (float(row['pred']), row['lpoint'].label), axis=1)\n",
    "scoreAndLabels = sc.parallelize(scoreAndLabels)"
   ]
  },
  {
   "cell_type": "code",
   "execution_count": 92,
   "metadata": {
    "collapsed": false
   },
   "outputs": [],
   "source": [
    "binary_metrics = BinaryClassificationMetrics(scoreAndLabels)"
   ]
  },
  {
   "cell_type": "code",
   "execution_count": 93,
   "metadata": {
    "collapsed": false
   },
   "outputs": [
    {
     "data": {
      "text/plain": [
       "0.7816544946099755"
      ]
     },
     "execution_count": 93,
     "metadata": {},
     "output_type": "execute_result"
    }
   ],
   "source": [
    "binary_metrics.areaUnderPR"
   ]
  },
  {
   "cell_type": "code",
   "execution_count": 94,
   "metadata": {
    "collapsed": false
   },
   "outputs": [
    {
     "data": {
      "text/plain": [
       "0.7012045925089404"
      ]
     },
     "execution_count": 94,
     "metadata": {},
     "output_type": "execute_result"
    }
   ],
   "source": [
    "binary_metrics.areaUnderROC"
   ]
  },
  {
   "cell_type": "code",
   "execution_count": 95,
   "metadata": {
    "collapsed": false
   },
   "outputs": [],
   "source": [
    "mult_metrics = MulticlassMetrics(scoreAndLabels)"
   ]
  },
  {
   "cell_type": "code",
   "execution_count": 96,
   "metadata": {
    "collapsed": false
   },
   "outputs": [
    {
     "data": {
      "text/plain": [
       "0.7007077856420627"
      ]
     },
     "execution_count": 96,
     "metadata": {},
     "output_type": "execute_result"
    }
   ],
   "source": [
    "mult_metrics.precision()"
   ]
  },
  {
   "cell_type": "code",
   "execution_count": 97,
   "metadata": {
    "collapsed": false
   },
   "outputs": [
    {
     "data": {
      "text/plain": [
       "0.7007077856420627"
      ]
     },
     "execution_count": 97,
     "metadata": {},
     "output_type": "execute_result"
    }
   ],
   "source": [
    "mult_metrics.recall()"
   ]
  },
  {
   "cell_type": "code",
   "execution_count": 98,
   "metadata": {
    "collapsed": false
   },
   "outputs": [
    {
     "data": {
      "text/plain": [
       "0.5116279069767442"
      ]
     },
     "execution_count": 98,
     "metadata": {},
     "output_type": "execute_result"
    }
   ],
   "source": [
    "max(test.label.mean(), 1 - test.label.mean())"
   ]
  },
  {
   "cell_type": "markdown",
   "metadata": {
    "collapsed": true
   },
   "source": [
    "# Cross validation"
   ]
  },
  {
   "cell_type": "code",
   "execution_count": 99,
   "metadata": {
    "collapsed": false
   },
   "outputs": [],
   "source": [
    "from pyspark.ml import Pipeline\n",
    "from pyspark.ml.classification import LogisticRegression\n",
    "from pyspark.ml.feature import HashingTF\n",
    "\n",
    "lr = LogisticRegression()\n",
    "tf = HashingTF(inputCol=\"tokens\", outputCol=\"features\")\n",
    "pipeline = Pipeline(stages=[tf, lr])"
   ]
  },
  {
   "cell_type": "code",
   "execution_count": 100,
   "metadata": {
    "collapsed": false
   },
   "outputs": [],
   "source": [
    "pdf = ssc.createDataFrame(df)"
   ]
  },
  {
   "cell_type": "code",
   "execution_count": 101,
   "metadata": {
    "collapsed": false
   },
   "outputs": [],
   "source": [
    "dataset = sqlContext.createDataFrame(\n",
    "[(point.features, point.label) for point in df['lpoint']],\n",
    "[\"features\", \"label\"])\n",
    "ptrain = ssc.createDataFrame(train)\n",
    "ptest = ssc.createDataFrame(test[['tokens','label','lpoint']])"
   ]
  },
  {
   "cell_type": "code",
   "execution_count": 102,
   "metadata": {
    "collapsed": false
   },
   "outputs": [],
   "source": [
    "model = pipeline.fit(ptrain)"
   ]
  },
  {
   "cell_type": "code",
   "execution_count": 103,
   "metadata": {
    "collapsed": false
   },
   "outputs": [],
   "source": [
    "prediction = model.transform(ptest)"
   ]
  },
  {
   "cell_type": "code",
   "execution_count": 104,
   "metadata": {
    "collapsed": false
   },
   "outputs": [],
   "source": [
    "result = prediction.select(\"tokens\", \"label\", \"prediction\").toPandas()"
   ]
  },
  {
   "cell_type": "code",
   "execution_count": 106,
   "metadata": {
    "collapsed": false
   },
   "outputs": [],
   "source": [
    "from pyspark.ml.tuning import ParamGridBuilder, CrossValidator\n",
    "from pyspark.ml.evaluation import BinaryClassificationEvaluator"
   ]
  },
  {
   "cell_type": "code",
   "execution_count": 1,
   "metadata": {
    "collapsed": false
   },
   "outputs": [
    {
     "ename": "NameError",
     "evalue": "name 'ParamGridBuilder' is not defined",
     "output_type": "error",
     "traceback": [
      "\u001b[0;31m---------------------------------------------------------------------------\u001b[0m",
      "\u001b[0;31mNameError\u001b[0m                                 Traceback (most recent call last)",
      "\u001b[0;32m<ipython-input-1-1310be5ef033>\u001b[0m in \u001b[0;36m<module>\u001b[0;34m()\u001b[0m\n\u001b[0;32m----> 1\u001b[0;31m \u001b[0mgrid\u001b[0m \u001b[0;34m=\u001b[0m \u001b[0mParamGridBuilder\u001b[0m\u001b[0;34m(\u001b[0m\u001b[0;34m)\u001b[0m\u001b[0;34m.\u001b[0m\u001b[0maddGrid\u001b[0m\u001b[0;34m(\u001b[0m\u001b[0mlr\u001b[0m\u001b[0;34m.\u001b[0m\u001b[0mmaxIter\u001b[0m\u001b[0;34m,\u001b[0m \u001b[0;34m[\u001b[0m\u001b[0;36m0\u001b[0m\u001b[0;34m,\u001b[0m \u001b[0;36m1\u001b[0m\u001b[0;34m]\u001b[0m\u001b[0;34m)\u001b[0m\u001b[0;34m.\u001b[0m\u001b[0mbuild\u001b[0m\u001b[0;34m(\u001b[0m\u001b[0;34m)\u001b[0m\u001b[0;34m\u001b[0m\u001b[0m\n\u001b[0m\u001b[1;32m      2\u001b[0m \u001b[0mevaluator\u001b[0m \u001b[0;34m=\u001b[0m \u001b[0mBinaryClassificationEvaluator\u001b[0m\u001b[0;34m(\u001b[0m\u001b[0;34m)\u001b[0m\u001b[0;34m\u001b[0m\u001b[0m\n\u001b[1;32m      3\u001b[0m \u001b[0mcv\u001b[0m \u001b[0;34m=\u001b[0m \u001b[0mCrossValidator\u001b[0m\u001b[0;34m(\u001b[0m\u001b[0mestimator\u001b[0m\u001b[0;34m=\u001b[0m\u001b[0mlr\u001b[0m\u001b[0;34m,\u001b[0m \u001b[0mestimatorParamMaps\u001b[0m\u001b[0;34m=\u001b[0m\u001b[0mgrid\u001b[0m\u001b[0;34m,\u001b[0m \u001b[0mevaluator\u001b[0m\u001b[0;34m=\u001b[0m\u001b[0mevaluator\u001b[0m\u001b[0;34m)\u001b[0m\u001b[0;34m\u001b[0m\u001b[0m\n\u001b[1;32m      4\u001b[0m \u001b[0;34m\u001b[0m\u001b[0m\n\u001b[1;32m      5\u001b[0m \u001b[0mcvModel\u001b[0m \u001b[0;34m=\u001b[0m \u001b[0mcv\u001b[0m\u001b[0;34m.\u001b[0m\u001b[0mfit\u001b[0m\u001b[0;34m(\u001b[0m\u001b[0mdataset\u001b[0m\u001b[0;34m)\u001b[0m\u001b[0;34m\u001b[0m\u001b[0m\n",
      "\u001b[0;31mNameError\u001b[0m: name 'ParamGridBuilder' is not defined"
     ]
    }
   ],
   "source": [
    "grid = ParamGridBuilder().addGrid(lr.maxIter, [0, 1]).build()\n",
    "evaluator = BinaryClassificationEvaluator()\n",
    "cv = CrossValidator(estimator=lr, estimatorParamMaps=grid, evaluator=evaluator)\n",
    "\n",
    "cvModel = cv.fit(dataset)\n",
    "evaluator.evaluate(cvModel.transform(dataset))\n",
    "type(cvModel)"
   ]
  },
  {
   "cell_type": "code",
   "execution_count": 117,
   "metadata": {
    "collapsed": false
   },
   "outputs": [],
   "source": [
    "weights = cvModel.bestModel.weights"
   ]
  },
  {
   "cell_type": "markdown",
   "metadata": {},
   "source": [
    "### Use initial weights of best model"
   ]
  },
  {
   "cell_type": "code",
   "execution_count": 128,
   "metadata": {
    "collapsed": false
   },
   "outputs": [
    {
     "name": "stderr",
     "output_type": "stream",
     "text": [
      "/Users/rene/anaconda/lib/python2.7/site-packages/IPython/kernel/__main__.py:2: SettingWithCopyWarning: \n",
      "A value is trying to be set on a copy of a slice from a DataFrame.\n",
      "Try using .loc[row_indexer,col_indexer] = value instead\n",
      "\n",
      "See the the caveats in the documentation: http://pandas.pydata.org/pandas-docs/stable/indexing.html#indexing-view-versus-copy\n",
      "  from IPython.kernel.zmq import kernelapp as app\n"
     ]
    }
   ],
   "source": [
    "lr_new = LogisticRegressionWithSGD.train(train_rdd, initialWeights=weights, iterations=200)\n",
    "test['pred_new'] = test.apply(lambda row: lr_new.predict(row['lpoint'].features), axis=1)"
   ]
  },
  {
   "cell_type": "code",
   "execution_count": 129,
   "metadata": {
    "collapsed": false
   },
   "outputs": [],
   "source": [
    "scoreAndLabels = test.apply(lambda row: (float(row['pred_new']), row['lpoint'].label), axis=1)\n",
    "scoreAndLabels = sc.parallelize(scoreAndLabels)"
   ]
  },
  {
   "cell_type": "code",
   "execution_count": 130,
   "metadata": {
    "collapsed": true
   },
   "outputs": [],
   "source": [
    "binary_metrics = BinaryClassificationMetrics(scoreAndLabels)"
   ]
  },
  {
   "cell_type": "code",
   "execution_count": 131,
   "metadata": {
    "collapsed": false
   },
   "outputs": [
    {
     "data": {
      "text/plain": [
       "0.8056182947487296"
      ]
     },
     "execution_count": 131,
     "metadata": {},
     "output_type": "execute_result"
    }
   ],
   "source": [
    "binary_metrics.areaUnderROC"
   ]
  },
  {
   "cell_type": "code",
   "execution_count": 132,
   "metadata": {
    "collapsed": false
   },
   "outputs": [
    {
     "data": {
      "text/plain": [
       "0.8613475209275279"
      ]
     },
     "execution_count": 132,
     "metadata": {},
     "output_type": "execute_result"
    }
   ],
   "source": [
    "binary_metrics.areaUnderPR"
   ]
  },
  {
   "cell_type": "code",
   "execution_count": 133,
   "metadata": {
    "collapsed": true
   },
   "outputs": [],
   "source": [
    "mult_metrics = MulticlassMetrics(scoreAndLabels)"
   ]
  },
  {
   "cell_type": "code",
   "execution_count": 134,
   "metadata": {
    "collapsed": false
   },
   "outputs": [
    {
     "data": {
      "text/plain": [
       "0.8048533872598584"
      ]
     },
     "execution_count": 134,
     "metadata": {},
     "output_type": "execute_result"
    }
   ],
   "source": [
    "mult_metrics.precision()"
   ]
  },
  {
   "cell_type": "code",
   "execution_count": null,
   "metadata": {
    "collapsed": true
   },
   "outputs": [],
   "source": []
  }
 ],
 "metadata": {
  "kernelspec": {
   "display_name": "Python 2",
   "language": "python",
   "name": "python2"
  },
  "language_info": {
   "codemirror_mode": {
    "name": "ipython",
    "version": 2
   },
   "file_extension": ".py",
   "mimetype": "text/x-python",
   "name": "python",
   "nbconvert_exporter": "python",
   "pygments_lexer": "ipython2",
   "version": "2.7.12"
  }
 },
 "nbformat": 4,
 "nbformat_minor": 0
}
